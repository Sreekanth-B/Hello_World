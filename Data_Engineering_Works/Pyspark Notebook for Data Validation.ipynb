{
 "cells": [
  {
   "cell_type": "code",
   "execution_count": null,
   "metadata": {},
   "outputs": [],
   "source": [
    "from pyspark.sql import SparkSession, HiveContext\n",
    "spark = SparkSession.builder.appName('Ops').getOrCreate()\n",
    "\n",
    "from pyspark.sql.types import StructType, StructField\n",
    "from pyspark.sql.types import DoubleType, IntegerType, StringType\n",
    "\n"
   ]
  },
  {
   "cell_type": "code",
   "execution_count": 15,
   "metadata": {},
   "outputs": [],
   "source": [
    "import pyspark\n",
    "import pandas as pd"
   ]
  },
  {
   "cell_type": "code",
   "execution_count": 23,
   "metadata": {},
   "outputs": [],
   "source": [
    "wb_out= spark.read.option(\"header\",\"true\").option(\"delimiter\",\",\").option(\"inferSchema\", \"true\").format(\"csv\").load(\"/home/qx816/notebooks/Wb_may8/data/model_input/raw/weibull_b/build.csv\")\n",
    "\n",
    "wb_out_1= spark.read.option(\"header\",\"true\").option(\"delimiter\",\",\").option(\"inferSchema\", \"true\").format(\"csv\").load(\"/home/qx816/notebooks/Wb_may8/data/model_input/raw/weibull_b/claims.csv\")\n"
   ]
  },
  {
   "cell_type": "code",
   "execution_count": 24,
   "metadata": {},
   "outputs": [],
   "source": [
    "failm_ou1= spark.read.option(\"header\",\"true\").option(\"delimiter\",\",\").option(\"inferSchema\", \"true\").format(\"csv\").load(\"/home/qx816/notebooks/Wb_may8/data/model_input/weibull_b/incidents_csv/failcode_input.csv\")\n",
    "\n",
    "fault_ou2= spark.read.option(\"header\",\"true\").option(\"delimiter\",\",\").option(\"inferSchema\", \"true\").format(\"csv\").load(\"/home/qx816/notebooks/Wb_may8/data/model_input/weibull_b/incidents_csv/faultcode_input.csv\")\n"
   ]
  },
  {
   "cell_type": "code",
   "execution_count": 33,
   "metadata": {},
   "outputs": [],
   "source": [
    "CENS_B= spark.read.option(\"header\",\"true\").option(\"delimiter\",\",\").option(\"inferSchema\", \"true\").format(\"csv\").load(\"/home/qx816/notebooks/ap_25/data/model_output/weibull_b/censor_files/2018-01-04_IRCL_WARRANTY_B6.7 2017_AUTO_2017_02_0_0_0_0_0_0_CENSOR_DATA_b.csv\")\n",
    "\n",
    "CENS_X= spark.read.option(\"header\",\"true\").option(\"delimiter\",\",\").option(\"inferSchema\", \"true\").format(\"csv\").load(\"/home/qx816/notebooks/ap_25/data/model_output/weibull_x/censor_files/2018-01-04_THAS_WARRANTY_X15 1 2017_AUTO_2017_05_0_0_0_0_0_0_CENSOR_DATA_x.csv\")\n"
   ]
  },
  {
   "cell_type": "code",
   "execution_count": 4,
   "metadata": {},
   "outputs": [],
   "source": [
    "failc_b= spark.read.option(\"header\",\"true\").option(\"delimiter\",\",\").option(\"inferSchema\", \"true\").format(\"csv\").load(\"/home/qx816/notebooks/ap_25/data/model_input/weibull_b/incidents_csv/failcode_input.csv\")\n",
    "fail_x = spark.read.option(\"header\",\"true\").option(\"delimiter\",\",\").option(\"inferSchema\", \"true\").format(\"csv\").load(\"/home/qx816/notebooks/ap_25/data/model_input/weibull_x/incidents_csv/failcode_input.csv\")\n"
   ]
  },
  {
   "cell_type": "code",
   "execution_count": 5,
   "metadata": {},
   "outputs": [
    {
     "name": "stdout",
     "output_type": "stream",
     "text": [
      "root\n",
      " |-- REL_ENGINE_NAME_DESC: string (nullable = true)\n",
      " |-- ENGINE_SERIAL_NUM: integer (nullable = true)\n",
      " |-- ENGINE_MILES: double (nullable = true)\n",
      " |-- PROGRAM_GROUP_NAME: string (nullable = true)\n",
      " |-- EARLIEST_INDICATION_DATE: timestamp (nullable = true)\n",
      " |-- REL_USER_APPL_DESC: string (nullable = true)\n",
      " |-- BUILD_DATE: timestamp (nullable = true)\n",
      " |-- NET_AMOUNT: double (nullable = true)\n",
      " |-- FAILURE_DATE: timestamp (nullable = true)\n",
      " |-- CODE: string (nullable = true)\n",
      " |-- CLAIM_DATE: timestamp (nullable = true)\n",
      "\n",
      "root\n",
      " |-- REL_ENGINE_NAME_DESC: string (nullable = true)\n",
      " |-- ENGINE_SERIAL_NUM: integer (nullable = true)\n",
      " |-- ENGINE_MILES: double (nullable = true)\n",
      " |-- PROGRAM_GROUP_NAME: string (nullable = true)\n",
      " |-- EARLIEST_INDICATION_DATE: timestamp (nullable = true)\n",
      " |-- REL_USER_APPL_DESC: string (nullable = true)\n",
      " |-- BUILD_DATE: timestamp (nullable = true)\n",
      " |-- NET_AMOUNT: double (nullable = true)\n",
      " |-- FAILURE_DATE: timestamp (nullable = true)\n",
      " |-- CODE: string (nullable = true)\n",
      " |-- CLAIM_DATE: timestamp (nullable = true)\n",
      "\n"
     ]
    }
   ],
   "source": [
    "failc_b.printSchema()\n",
    "fail_x.printSchema()\n"
   ]
  },
  {
   "cell_type": "code",
   "execution_count": 6,
   "metadata": {},
   "outputs": [
    {
     "ename": "NameError",
     "evalue": "name 'CENS_B' is not defined",
     "output_type": "error",
     "traceback": [
      "\u001b[0;31m\u001b[0m",
      "\u001b[0;31mNameError\u001b[0mTraceback (most recent call last)",
      "\u001b[0;32m<ipython-input-6-528069b76051>\u001b[0m in \u001b[0;36m<module>\u001b[0;34m()\u001b[0m\n\u001b[0;32m----> 1\u001b[0;31m \u001b[0mCENS_B\u001b[0m\u001b[0;34m.\u001b[0m\u001b[0mprintSchema\u001b[0m\u001b[0;34m(\u001b[0m\u001b[0;34m)\u001b[0m\u001b[0;34m\u001b[0m\u001b[0m\n\u001b[0m\u001b[1;32m      2\u001b[0m \u001b[0mCENS_X\u001b[0m\u001b[0;34m.\u001b[0m\u001b[0mprintSchema\u001b[0m\u001b[0;34m(\u001b[0m\u001b[0;34m)\u001b[0m\u001b[0;34m\u001b[0m\u001b[0m\n",
      "\u001b[0;31mNameError\u001b[0m: name 'CENS_B' is not defined"
     ]
    }
   ],
   "source": [
    "CENS_B.printSchema()\n",
    "CENS_X.printSchema()"
   ]
  },
  {
   "cell_type": "code",
   "execution_count": 7,
   "metadata": {},
   "outputs": [],
   "source": [
    "\n",
    "sqlContext.registerDataFrameAsTable(failc_b, \"failc_b\")\n",
    "sqlContext.registerDataFrameAsTable(fail_x, \"failc_x\")"
   ]
  },
  {
   "cell_type": "code",
   "execution_count": 30,
   "metadata": {},
   "outputs": [
    {
     "name": "stdout",
     "output_type": "stream",
     "text": [
      "+--------------------+\n",
      "|REL_ENGINE_NAME_DESC|\n",
      "+--------------------+\n",
      "|          X15 3 2017|\n",
      "|          X15 1 2017|\n",
      "|           ISX1 2013|\n",
      "|           ISX2 2013|\n",
      "|           ISX3 2013|\n",
      "+--------------------+\n",
      "\n"
     ]
    },
    {
     "data": {
      "text/html": [
       "<div>\n",
       "<table border=\"1\" class=\"dataframe\">\n",
       "  <thead>\n",
       "    <tr style=\"text-align: right;\">\n",
       "      <th></th>\n",
       "      <th>REL_ENGINE_NAME_DESC</th>\n",
       "    </tr>\n",
       "  </thead>\n",
       "  <tbody>\n",
       "    <tr>\n",
       "      <th>0</th>\n",
       "      <td>X15 3 2017</td>\n",
       "    </tr>\n",
       "    <tr>\n",
       "      <th>1</th>\n",
       "      <td>X15 1 2017</td>\n",
       "    </tr>\n",
       "    <tr>\n",
       "      <th>2</th>\n",
       "      <td>ISX1 2013</td>\n",
       "    </tr>\n",
       "    <tr>\n",
       "      <th>3</th>\n",
       "      <td>ISX2 2013</td>\n",
       "    </tr>\n",
       "    <tr>\n",
       "      <th>4</th>\n",
       "      <td>ISX3 2013</td>\n",
       "    </tr>\n",
       "  </tbody>\n",
       "</table>\n",
       "</div>"
      ],
      "text/plain": [
       "  REL_ENGINE_NAME_DESC\n",
       "0           X15 3 2017\n",
       "1           X15 1 2017\n",
       "2            ISX1 2013\n",
       "3            ISX2 2013\n",
       "4            ISX3 2013"
      ]
     },
     "execution_count": 30,
     "metadata": {},
     "output_type": "execute_result"
    }
   ],
   "source": [
    "cd = sqlContext.sql(\"select distinct(REL_ENGINE_NAME_DESC) from failc_x\")\n",
    "\n",
    "cd.show()\n",
    "cd.toPandas()\n",
    "\n"
   ]
  },
  {
   "cell_type": "code",
   "execution_count": 27,
   "metadata": {},
   "outputs": [
    {
     "ename": "TypeError",
     "evalue": "'Column' object is not callable",
     "output_type": "error",
     "traceback": [
      "\u001b[0;31m\u001b[0m",
      "\u001b[0;31mTypeError\u001b[0mTraceback (most recent call last)",
      "\u001b[0;32m<ipython-input-27-6f382b875a40>\u001b[0m in \u001b[0;36m<module>\u001b[0;34m()\u001b[0m\n\u001b[0;32m----> 1\u001b[0;31m \u001b[0mlst\u001b[0m \u001b[0;34m=\u001b[0m \u001b[0mcd\u001b[0m\u001b[0;34m[\u001b[0m\u001b[0;34m\"REL_ENGINE_NAME_DESC\"\u001b[0m\u001b[0;34m]\u001b[0m\u001b[0;34m.\u001b[0m\u001b[0mtolist\u001b[0m\u001b[0;34m(\u001b[0m\u001b[0;34m)\u001b[0m\u001b[0;34m\u001b[0m\u001b[0m\n\u001b[0m\u001b[1;32m      2\u001b[0m \u001b[0;34m\u001b[0m\u001b[0m\n\u001b[1;32m      3\u001b[0m \u001b[0;32mprint\u001b[0m\u001b[0;34m(\u001b[0m\u001b[0mlst\u001b[0m\u001b[0;34m)\u001b[0m\u001b[0;34m\u001b[0m\u001b[0m\n\u001b[1;32m      4\u001b[0m \u001b[0;34m\u001b[0m\u001b[0m\n\u001b[1;32m      5\u001b[0m \u001b[0;34m\u001b[0m\u001b[0m\n",
      "\u001b[0;31mTypeError\u001b[0m: 'Column' object is not callable"
     ]
    }
   ],
   "source": [
    "lst = cd[\"REL_ENGINE_NAME_DESC\"].tolist()\n",
    "\n",
    "print(lst)\n",
    "\n",
    "\n"
   ]
  },
  {
   "cell_type": "code",
   "execution_count": null,
   "metadata": {},
   "outputs": [],
   "source": [
    "sk = 'X15 1 2017'\n",
    "print(sk)"
   ]
  },
  {
   "cell_type": "code",
   "execution_count": 58,
   "metadata": {},
   "outputs": [
    {
     "name": "stdout",
     "output_type": "stream",
     "text": [
      "+-------------------+-------------------+-------------------+-------------------+-------------------+-------------------+\n",
      "|              build|               fail|              claim|          min_build|           min_fail|          min_claim|\n",
      "+-------------------+-------------------+-------------------+-------------------+-------------------+-------------------+\n",
      "|2017-11-30 00:00:00|2018-01-04 00:00:00|2017-12-29 00:00:00|2017-01-02 00:00:00|2017-01-17 00:00:00|2017-01-26 00:00:00|\n",
      "+-------------------+-------------------+-------------------+-------------------+-------------------+-------------------+\n",
      "\n",
      "+-------------------+-------------------+-------------------+-------------------+-------------------+-------------------+\n",
      "|              build|               fail|    max(CLAIM_DATE)|              build|               fail|              claim|\n",
      "+-------------------+-------------------+-------------------+-------------------+-------------------+-------------------+\n",
      "|2017-12-11 00:00:00|2018-01-15 00:00:00|2017-12-29 00:00:00|2017-01-03 00:00:00|2017-01-20 00:00:00|2017-01-20 00:00:00|\n",
      "+-------------------+-------------------+-------------------+-------------------+-------------------+-------------------+\n",
      "\n"
     ]
    }
   ],
   "source": [
    "ck= sqlContext.sql(\"select max(BUILD_DATE) as build, max(FAILURE_DATE) as fail, max(CLAIM_DATE) as claim, min(BUILD_DATE) as min_build, min(FAILURE_DATE) as min_fail, min(CLAIM_DATE) as min_claim from failc_b \")\n",
    "ck1= sqlContext.sql(\"select  max(BUILD_DATE) as build, max(FAILURE_DATE) as fail, max(CLAIM_DATE), min(BUILD_DATE) as build, min(FAILURE_DATE) as fail, min(CLAIM_DATE) as claim from failc_x \")\n",
    "\n",
    "ck.show()\n",
    "ck1.show()\n"
   ]
  },
  {
   "cell_type": "code",
   "execution_count": 66,
   "metadata": {},
   "outputs": [
    {
     "name": "stdout",
     "output_type": "stream",
     "text": [
      "+-------------------+-------------------+\n",
      "|                max|                min|\n",
      "+-------------------+-------------------+\n",
      "|2017-02-28 00:00:00|2017-02-01 00:00:00|\n",
      "+-------------------+-------------------+\n",
      "\n"
     ]
    }
   ],
   "source": [
    "ck= sqlContext.sql(\"select max(BUILD_DATE) as max, min(BUILD_DATE) as min from failc_b where BUILD_DATE between '2017-02-01' and '2017-02-31' \")\n",
    "ck.show()"
   ]
  },
  {
   "cell_type": "code",
   "execution_count": 73,
   "metadata": {},
   "outputs": [
    {
     "name": "stdout",
     "output_type": "stream",
     "text": [
      "+-----------------+\n",
      "|ENGINE_SERIAL_NUM|\n",
      "+-----------------+\n",
      "|         74099500|\n",
      "|         74097022|\n",
      "|         74099820|\n",
      "|         74101173|\n",
      "+-----------------+\n",
      "\n"
     ]
    },
    {
     "data": {
      "text/plain": [
       "4"
      ]
     },
     "execution_count": 73,
     "metadata": {},
     "output_type": "execute_result"
    }
   ],
   "source": [
    "ck= sqlContext.sql(\"select distinct(ENGINE_SERIAL_NUM) from failc_b where code == 'IRCL' and PROGRAM_GROUP_NAME == 'WARRANTY' and REL_USER_APPL_DESC == 'AUTO' and BUILD_DATE between '2017-02-01' and '2017-02-30' and REL_ENGINE_NAME_DESC == 'B6.7 2017' \")\n",
    "ck1= sqlContext.sql(\"select distinct(ENGINE_SERIAL_NUM) from failc_x where code == 'THAS' and PROGRAM_GROUP_NAME == 'WARRANTY' and REL_USER_APPL_DESC == 'AUTO' and BUILD_DATE between '2017-05-01' and '2017-05-31' and REL_ENGINE_NAME_DESC == 'X15 1 2017' \")\n",
    "\n",
    "ck.show()\n",
    "ck.count()\n"
   ]
  },
  {
   "cell_type": "code",
   "execution_count": 78,
   "metadata": {},
   "outputs": [
    {
     "name": "stdout",
     "output_type": "stream",
     "text": [
      "+-------+-----------------+\n",
      "|    SUM|ENGINE_SERIAL_NUM|\n",
      "+-------+-----------------+\n",
      "|1119.22|         74099500|\n",
      "|6538.28|         74097022|\n",
      "|1202.31|         74099820|\n",
      "|1026.85|         74101173|\n",
      "+-------+-----------------+\n",
      "\n",
      "+--------+-----------------+\n",
      "|     SUM|ENGINE_SERIAL_NUM|\n",
      "+--------+-----------------+\n",
      "|15015.37|         79982161|\n",
      "|10162.91|         79980728|\n",
      "| 2753.67|         79983796|\n",
      "|23909.62|         79982134|\n",
      "|18748.07|         79980350|\n",
      "| 2396.02|         79978882|\n",
      "| 2616.46|         79981853|\n",
      "|  176.49|         79981432|\n",
      "|19530.71|         79982806|\n",
      "| 8106.01|         79981115|\n",
      "|24340.27|         79979925|\n",
      "| 8204.47|         79981593|\n",
      "| 8531.37|         79982185|\n",
      "|49919.25|         79983548|\n",
      "| 4270.89|         79981438|\n",
      "+--------+-----------------+\n",
      "\n"
     ]
    }
   ],
   "source": [
    "ck= sqlContext.sql(\"select sum(NET_AMOUNT) as SUM,ENGINE_SERIAL_NUM from failc_b where code == 'IRCL' and PROGRAM_GROUP_NAME == 'WARRANTY' and REL_USER_APPL_DESC == 'AUTO' and BUILD_DATE between '2017-02-01' and '2017-02-30' and REL_ENGINE_NAME_DESC == 'B6.7 2017' group by ENGINE_SERIAL_NUM \")\n",
    "ck1= sqlContext.sql(\"select sum(NET_AMOUNT) as SUM,ENGINE_SERIAL_NUM from failc_x where code == 'THAS' and PROGRAM_GROUP_NAME == 'WARRANTY' and REL_USER_APPL_DESC == 'AUTO' and BUILD_DATE between '2017-05-01' and '2017-05-31' and REL_ENGINE_NAME_DESC == 'X15 1 2017' group by ENGINE_SERIAL_NUM\")\n",
    "\n",
    "ck.show()\n",
    "ck1.show()\n"
   ]
  },
  {
   "cell_type": "code",
   "execution_count": 76,
   "metadata": {},
   "outputs": [],
   "source": [
    "\n",
    "sqlContext.registerDataFrameAsTable(ck, \"ck\")\n",
    "sqlContext.registerDataFrameAsTable(ck1, \"ck1\")"
   ]
  },
  {
   "cell_type": "code",
   "execution_count": 77,
   "metadata": {},
   "outputs": [
    {
     "name": "stdout",
     "output_type": "stream",
     "text": [
      "+--------+\n",
      "|sum(SUM)|\n",
      "+--------+\n",
      "| 9886.66|\n",
      "+--------+\n",
      "\n",
      "+------------------+\n",
      "|          sum(SUM)|\n",
      "+------------------+\n",
      "|198681.58000000002|\n",
      "+------------------+\n",
      "\n"
     ]
    }
   ],
   "source": [
    "cdk = sqlContext.sql(\"select sum(SUM) from ck\")\n",
    "cdk1 = sqlContext.sql(\"select sum(SUM) from ck1\")\n",
    "\n",
    "cdk.show()\n",
    "cdk1.show()"
   ]
  },
  {
   "cell_type": "code",
   "execution_count": 74,
   "metadata": {},
   "outputs": [
    {
     "name": "stdout",
     "output_type": "stream",
     "text": [
      "+-----------------+\n",
      "|ENGINE_SERIAL_NUM|\n",
      "+-----------------+\n",
      "|         79982161|\n",
      "|         79980728|\n",
      "|         79983796|\n",
      "|         79982134|\n",
      "|         79980350|\n",
      "|         79978882|\n",
      "|         79981853|\n",
      "|         79981432|\n",
      "|         79982806|\n",
      "|         79981115|\n",
      "|         79979925|\n",
      "|         79981593|\n",
      "|         79982185|\n",
      "|         79983548|\n",
      "|         79981438|\n",
      "+-----------------+\n",
      "\n"
     ]
    },
    {
     "data": {
      "text/plain": [
       "15"
      ]
     },
     "execution_count": 74,
     "metadata": {},
     "output_type": "execute_result"
    }
   ],
   "source": [
    "ck1.show()\n",
    "\n",
    "ck1.count()"
   ]
  },
  {
   "cell_type": "code",
   "execution_count": null,
   "metadata": {},
   "outputs": [],
   "source": []
  },
  {
   "cell_type": "code",
   "execution_count": null,
   "metadata": {},
   "outputs": [],
   "source": []
  },
  {
   "cell_type": "code",
   "execution_count": 34,
   "metadata": {},
   "outputs": [],
   "source": [
    "\n",
    "sqlContext.registerDataFrameAsTable(CENS_B, \"CENS_B\")\n",
    "sqlContext.registerDataFrameAsTable(CENS_X, \"CENS_X\")"
   ]
  },
  {
   "cell_type": "code",
   "execution_count": 40,
   "metadata": {},
   "outputs": [
    {
     "name": "stdout",
     "output_type": "stream",
     "text": [
      "+-------------------+\n",
      "|    max(BUILD_DATE)|\n",
      "+-------------------+\n",
      "|2017-02-28 00:00:00|\n",
      "+-------------------+\n",
      "\n",
      "+-------------------+\n",
      "|    max(BUILD_DATE)|\n",
      "+-------------------+\n",
      "|2017-05-31 00:00:00|\n",
      "+-------------------+\n",
      "\n"
     ]
    }
   ],
   "source": [
    "ck= sqlContext.sql(\"select max(BUILD_DATE) from CENS_B\")\n",
    "ck1= sqlContext.sql(\"select max(BUILD_DATE) from CENS_X\")\n",
    "\n",
    "ck.show()\n",
    "ck1.show()\n"
   ]
  },
  {
   "cell_type": "code",
   "execution_count": null,
   "metadata": {},
   "outputs": [],
   "source": []
  },
  {
   "cell_type": "code",
   "execution_count": 41,
   "metadata": {},
   "outputs": [
    {
     "name": "stdout",
     "output_type": "stream",
     "text": [
      "+--------+\n",
      "|  serial|\n",
      "+--------+\n",
      "|74098520|\n",
      "|74099780|\n",
      "|74105582|\n",
      "|74101796|\n",
      "|74100999|\n",
      "|74106937|\n",
      "|74106561|\n",
      "|74105859|\n",
      "|74101896|\n",
      "|74095529|\n",
      "|74107426|\n",
      "|74096491|\n",
      "|74100208|\n",
      "|74099808|\n",
      "|74100016|\n",
      "|74098058|\n",
      "|74101810|\n",
      "|74103840|\n",
      "|74107805|\n",
      "|74097940|\n",
      "+--------+\n",
      "only showing top 20 rows\n",
      "\n"
     ]
    },
    {
     "data": {
      "text/plain": [
       "5283"
      ]
     },
     "execution_count": 41,
     "metadata": {},
     "output_type": "execute_result"
    }
   ],
   "source": [
    "ck= sqlContext.sql(\"select distinct(serial) from CENS_B\")\n",
    "\n",
    "\n",
    "ck.show(20)\n",
    "ck.count()"
   ]
  },
  {
   "cell_type": "code",
   "execution_count": 42,
   "metadata": {},
   "outputs": [
    {
     "name": "stdout",
     "output_type": "stream",
     "text": [
      "+--------+\n",
      "|  serial|\n",
      "+--------+\n",
      "|79983591|\n",
      "|79983218|\n",
      "|79980802|\n",
      "|79980257|\n",
      "|79982126|\n",
      "|79983867|\n",
      "|79984362|\n",
      "|79984022|\n",
      "|79978946|\n",
      "|79984410|\n",
      "|79984306|\n",
      "|79982368|\n",
      "|79979059|\n",
      "|79979948|\n",
      "|79984326|\n",
      "|79982145|\n",
      "|79983472|\n",
      "|79980799|\n",
      "|79981830|\n",
      "|79983562|\n",
      "+--------+\n",
      "only showing top 20 rows\n",
      "\n"
     ]
    },
    {
     "data": {
      "text/plain": [
       "3119"
      ]
     },
     "execution_count": 42,
     "metadata": {},
     "output_type": "execute_result"
    }
   ],
   "source": [
    "ck= sqlContext.sql(\"select distinct(serial) from CENS_X\")\n",
    "\n",
    "\n",
    "ck.show(20)\n",
    "ck.count()"
   ]
  },
  {
   "cell_type": "code",
   "execution_count": null,
   "metadata": {},
   "outputs": [],
   "source": []
  },
  {
   "cell_type": "code",
   "execution_count": null,
   "metadata": {},
   "outputs": [],
   "source": []
  },
  {
   "cell_type": "code",
   "execution_count": null,
   "metadata": {},
   "outputs": [],
   "source": []
  },
  {
   "cell_type": "code",
   "execution_count": 28,
   "metadata": {},
   "outputs": [
    {
     "name": "stdout",
     "output_type": "stream",
     "text": [
      "root\n",
      " |-- REL_ENGINE_NAME_DESC: string (nullable = true)\n",
      " |-- ENGINE_SERIAL_NUM: integer (nullable = true)\n",
      " |-- ENGINE_MILES: double (nullable = true)\n",
      " |-- PROGRAM_GROUP_NAME: string (nullable = true)\n",
      " |-- EARLIEST_INDICATION_DATE: timestamp (nullable = true)\n",
      " |-- REL_USER_APPL_DESC: string (nullable = true)\n",
      " |-- BUILD_DATE: timestamp (nullable = true)\n",
      " |-- NET_AMOUNT: double (nullable = true)\n",
      " |-- FAILURE_DATE: timestamp (nullable = true)\n",
      " |-- CODE: string (nullable = true)\n",
      " |-- CLAIM_DATE: timestamp (nullable = true)\n",
      "\n"
     ]
    },
    {
     "data": {
      "text/plain": [
       "335031"
      ]
     },
     "execution_count": 28,
     "metadata": {},
     "output_type": "execute_result"
    }
   ],
   "source": [
    "failm_ou1.printSchema()\n",
    "failm_ou1.count()"
   ]
  },
  {
   "cell_type": "code",
   "execution_count": 29,
   "metadata": {},
   "outputs": [
    {
     "name": "stdout",
     "output_type": "stream",
     "text": [
      "root\n",
      " |-- REL_ENGINE_NAME_DESC: string (nullable = true)\n",
      " |-- ENGINE_SERIAL_NUM: integer (nullable = true)\n",
      " |-- ENGINE_MILES: double (nullable = true)\n",
      " |-- PROGRAM_GROUP_NAME: string (nullable = true)\n",
      " |-- EARLIEST_INDICATION_DATE: timestamp (nullable = true)\n",
      " |-- REL_USER_APPL_DESC: string (nullable = true)\n",
      " |-- BUILD_DATE: timestamp (nullable = true)\n",
      " |-- NET_AMOUNT: double (nullable = true)\n",
      " |-- FAILURE_DATE: timestamp (nullable = true)\n",
      " |-- CODE: integer (nullable = true)\n",
      " |-- CLAIM_DATE: timestamp (nullable = true)\n",
      "\n"
     ]
    },
    {
     "data": {
      "text/plain": [
       "206969"
      ]
     },
     "execution_count": 29,
     "metadata": {},
     "output_type": "execute_result"
    }
   ],
   "source": [
    "fault_ou2.printSchema()\n",
    "fault_ou2.count()"
   ]
  },
  {
   "cell_type": "code",
   "execution_count": 30,
   "metadata": {},
   "outputs": [],
   "source": [
    "\n",
    "sqlContext.registerDataFrameAsTable(failm_ou1, \"failm_ou1\")\n",
    "sqlContext.registerDataFrameAsTable(fault_ou2, \"fault_ou2\")"
   ]
  },
  {
   "cell_type": "code",
   "execution_count": 31,
   "metadata": {},
   "outputs": [
    {
     "name": "stdout",
     "output_type": "stream",
     "text": [
      "+-------------------+-------------------+\n",
      "|                Max|                Min|\n",
      "+-------------------+-------------------+\n",
      "|2019-03-29 00:00:00|2011-02-21 00:00:00|\n",
      "+-------------------+-------------------+\n",
      "\n"
     ]
    }
   ],
   "source": [
    "ck = sqlContext.sql(\"select max(BUILD_DATE) as Max, min(BUILD_DATE) as Min from failm_ou1\")\n",
    "\n",
    "ck.show()"
   ]
  },
  {
   "cell_type": "code",
   "execution_count": 32,
   "metadata": {},
   "outputs": [
    {
     "name": "stdout",
     "output_type": "stream",
     "text": [
      "+-------------------+-------------------+\n",
      "|                Max|                Min|\n",
      "+-------------------+-------------------+\n",
      "|2019-04-11 00:00:00|2011-04-20 00:00:00|\n",
      "+-------------------+-------------------+\n",
      "\n"
     ]
    }
   ],
   "source": [
    "ck = sqlContext.sql(\"select max(BUILD_DATE) as Max, min(BUILD_DATE) as Min from fault_ou2\")\n",
    "\n",
    "ck.show()"
   ]
  },
  {
   "cell_type": "code",
   "execution_count": null,
   "metadata": {},
   "outputs": [],
   "source": [
    "#om_out_52= spark.read.option(\"header\",\"true\").option(\"delimiter\",\",\").option(\"inferSchema\", \"true\").format(\"csv\").load(\"/data/data/om/OM_output/om_model_output/OM_MODEL_OUTPUT_2019-05-02.csv\")\n"
   ]
  },
  {
   "cell_type": "code",
   "execution_count": null,
   "metadata": {},
   "outputs": [],
   "source": [
    "#om_out_52.printSchema()"
   ]
  },
  {
   "cell_type": "code",
   "execution_count": null,
   "metadata": {},
   "outputs": [],
   "source": [
    "#sqlContext.registerDataFrameAsTable(om_out_52, \"om_out_52_df\")"
   ]
  },
  {
   "cell_type": "code",
   "execution_count": null,
   "metadata": {},
   "outputs": [],
   "source": []
  },
  {
   "cell_type": "code",
   "execution_count": 25,
   "metadata": {},
   "outputs": [
    {
     "name": "stdout",
     "output_type": "stream",
     "text": [
      "root\n",
      " |-- ESN: string (nullable = true)\n",
      " |-- ENG_NAME: string (nullable = true)\n",
      " |-- BUILD_YEAR: string (nullable = true)\n",
      " |-- CPL_NUM: string (nullable = true)\n",
      " |-- DESIGN_CONFIG_NUM: string (nullable = true)\n",
      " |-- DESIGN_HSP_NUM: integer (nullable = true)\n",
      " |-- DESIGN_RPM_NUM: integer (nullable = true)\n",
      " |-- ECM_PART_NO: integer (nullable = true)\n",
      " |-- EMISSIONS_FAMILY_CODE: string (nullable = true)\n",
      " |-- ENGINE_GROUP_DESC: string (nullable = true)\n",
      " |-- EPA_NAME: string (nullable = true)\n",
      " |-- MKTG_CONFIG_NUM: string (nullable = true)\n",
      " |-- MKTG_HSP_NUM: integer (nullable = true)\n",
      " |-- MKTG_RPM_NUM: integer (nullable = true)\n",
      " |-- OEM_NAME: string (nullable = true)\n",
      " |-- SERVICE_ENGINE_MODEL: string (nullable = true)\n",
      " |-- SHOP_ORDER_NUM: integer (nullable = true)\n",
      " |-- TRUCK_MODEL: string (nullable = true)\n",
      " |-- ENGINE_SERIAL_NUM: integer (nullable = true)\n",
      " |-- BUILD_DATE: timestamp (nullable = true)\n",
      " |-- BUILD_MONTH: string (nullable = true)\n",
      " |-- USER_APPL_CODE: integer (nullable = true)\n",
      " |-- DESIGN_APPLICATION_CODE: string (nullable = true)\n",
      " |-- SHIP_DATE: timestamp (nullable = true)\n",
      " |-- IN_SERVICE_DATE: timestamp (nullable = true)\n",
      " |-- DESIGN_PHASE_CODE: string (nullable = true)\n",
      " |-- USER_APPL_DESC: string (nullable = true)\n",
      " |-- OEM_GROUP: string (nullable = true)\n",
      " |-- BUILD_QTR: string (nullable = true)\n",
      " |-- OEM_CODE: double (nullable = true)\n",
      " |-- BUILD_DAY_OF_WEEK: string (nullable = true)\n",
      " |-- BUILT_ON_WEEKEND: boolean (nullable = true)\n",
      " |-- CMP_TIME_DIFF_BUILDDATE_TO_INSERVICEDATE_DAYS: double (nullable = true)\n",
      " |-- CUSTOMER_NAME: string (nullable = true)\n",
      " |-- REL_CMP_PROGRAM_GROUP_CODE: integer (nullable = true)\n",
      " |-- REL_OEMCHAS_PAC_ESN: integer (nullable = true)\n",
      " |-- REL_OEMCHAS_PAC_AIR_CLEANER_DESC: string (nullable = true)\n",
      " |-- REL_OEMCHAS_PAC_ALTERNATOR_DESC: string (nullable = true)\n",
      " |-- REL_OEMCHAS_PAC_BASE_MODEL: integer (nullable = true)\n",
      " |-- REL_OEMCHAS_PAC_CHASSIS_NUM: integer (nullable = true)\n",
      " |-- REL_OEMCHAS_PAC_COMMODITY_DESC: string (nullable = true)\n",
      " |-- REL_OEMCHAS_PAC_DEF_TANK_DESC: string (nullable = true)\n",
      " |-- REL_OEMCHAS_PAC_DEF_TANK_LOC: string (nullable = true)\n",
      " |-- REL_OEMCHAS_PAC_EXHAUST_SYSTEM_DESC: string (nullable = true)\n",
      " |-- REL_OEMCHAS_PAC_FAN_HUB_DESC: string (nullable = true)\n",
      " |-- REL_OEMCHAS_PAC_HIGHWAY_PCT: double (nullable = true)\n",
      " |-- REL_OEMCHAS_PAC_INTENDED_SERVICE_DESC: string (nullable = true)\n",
      " |-- REL_OEMCHAS_PAC_OEM_PLANT_CD: string (nullable = true)\n",
      " |-- REL_OEMCHAS_PAC_RADIATOR_DESC: string (nullable = true)\n",
      " |-- REL_OEMCHAS_PAC_TRANSMISSION_DESC: string (nullable = true)\n",
      " |-- REL_OEMCHAS_NAV_ESN: integer (nullable = true)\n",
      " |-- REL_OEMCHAS_NAV_ALTERNATOR_DESC: string (nullable = true)\n",
      " |-- REL_OEMCHAS_NAV_CUST_40_NME: string (nullable = true)\n",
      " |-- REL_OEMCHAS_NAV_DEF_TANK_DESC: string (nullable = true)\n",
      " |-- REL_OEMCHAS_NAV_EXHAUST_DESC: string (nullable = true)\n",
      " |-- REL_OEMCHAS_NAV_FAN_DRIVE_DESC: string (nullable = true)\n",
      " |-- REL_OEMCHAS_NAV_GEAR_RATIO: double (nullable = true)\n",
      " |-- REL_OEMCHAS_NAV_TRANSMISSION_DESC: string (nullable = true)\n",
      " |-- REL_OEMCHAS_NAV_VEH_APPL_NME: string (nullable = true)\n",
      " |-- PART_SUPPLIER_LST: string (nullable = true)\n",
      " |-- ISSUE_PART_LST: string (nullable = true)\n",
      " |-- OPT_ITEM: string (nullable = true)\n",
      " |-- OEM_NORMALIZED_GROUP: string (nullable = true)\n",
      "\n"
     ]
    },
    {
     "data": {
      "text/plain": [
       "31325545"
      ]
     },
     "execution_count": 25,
     "metadata": {},
     "output_type": "execute_result"
    }
   ],
   "source": [
    "\n",
    "wb_out.printSchema()\n",
    "wb_out.count()"
   ]
  },
  {
   "cell_type": "code",
   "execution_count": 26,
   "metadata": {},
   "outputs": [
    {
     "name": "stdout",
     "output_type": "stream",
     "text": [
      "root\n",
      " |-- ENG_NAME: string (nullable = true)\n",
      " |-- ENGINE_SERIAL_NUM: integer (nullable = true)\n",
      " |-- BUILD_DATE: timestamp (nullable = true)\n",
      " |-- BUILD_MONTH: string (nullable = true)\n",
      " |-- FAIL_CODE: string (nullable = true)\n",
      " |-- IN_SERVICE_DATE: timestamp (nullable = true)\n",
      " |-- FAILURE_DATE: timestamp (nullable = true)\n",
      " |-- USER_APPL_CODE: integer (nullable = true)\n",
      " |-- ENGINE_MILES: double (nullable = true)\n",
      " |-- ENGINE_HRS: double (nullable = true)\n",
      " |-- CLAIM_DATE: timestamp (nullable = true)\n",
      " |-- PROGRAM_GROUP_CODE: integer (nullable = true)\n",
      " |-- PROGRAM_GROUP_NAME: string (nullable = true)\n",
      " |-- PAYMENT_DATE: timestamp (nullable = true)\n",
      " |-- MATERIALS_AMOUNT: double (nullable = true)\n",
      " |-- LABOR_HOURS: double (nullable = true)\n",
      " |-- MARKUP_AMOUNT: double (nullable = true)\n",
      " |-- REPAIR_LABOR_AMOUNT: double (nullable = true)\n",
      " |-- TRAVEL_LABOR_AMOUNT: double (nullable = true)\n",
      " |-- UNDETAILED_PARTS_AMOUNT: double (nullable = true)\n",
      " |-- INVOICE_AMOUNT: double (nullable = true)\n",
      " |-- NET_AMOUNT: double (nullable = true)\n",
      " |-- BUILD_QTR: string (nullable = true)\n",
      " |-- OEM_CODE: integer (nullable = true)\n",
      "\n"
     ]
    },
    {
     "data": {
      "text/plain": [
       "389061"
      ]
     },
     "execution_count": 26,
     "metadata": {},
     "output_type": "execute_result"
    }
   ],
   "source": [
    "wb_out_1.printSchema()\n",
    "wb_out_1.count()"
   ]
  },
  {
   "cell_type": "code",
   "execution_count": 27,
   "metadata": {},
   "outputs": [],
   "source": [
    "sqlContext.registerDataFrameAsTable(wb_out, \"wb_out\")\n",
    "sqlContext.registerDataFrameAsTable(wb_out_1, \"wb_out_1\")\n"
   ]
  },
  {
   "cell_type": "code",
   "execution_count": 20,
   "metadata": {},
   "outputs": [
    {
     "name": "stdout",
     "output_type": "stream",
     "text": [
      "+-------------------+-------------------+\n",
      "|                Max|                Min|\n",
      "+-------------------+-------------------+\n",
      "|2019-04-30 00:00:00|2010-09-03 00:00:00|\n",
      "+-------------------+-------------------+\n",
      "\n"
     ]
    },
    {
     "data": {
      "text/plain": [
       "1"
      ]
     },
     "execution_count": 20,
     "metadata": {},
     "output_type": "execute_result"
    }
   ],
   "source": [
    "cd=sqlContext.sql(\"select max(BUILD_DATE) as Max,min(BUILD_DATE) as Min from wb_out\")\n",
    "\n",
    "cd.show()\n",
    "cd.count()"
   ]
  },
  {
   "cell_type": "code",
   "execution_count": 21,
   "metadata": {},
   "outputs": [
    {
     "name": "stdout",
     "output_type": "stream",
     "text": [
      "+-------------------+-------------------+\n",
      "|                Max|                Min|\n",
      "+-------------------+-------------------+\n",
      "|2019-03-29 00:00:00|2011-02-18 00:00:00|\n",
      "+-------------------+-------------------+\n",
      "\n"
     ]
    },
    {
     "data": {
      "text/plain": [
       "1"
      ]
     },
     "execution_count": 21,
     "metadata": {},
     "output_type": "execute_result"
    }
   ],
   "source": [
    "cd=sqlContext.sql(\"select max(BUILD_DATE) as Max,min(BUILD_DATE) as Min from wb_out_1\")\n",
    "\n",
    "cd.show()\n",
    "cd.count()"
   ]
  },
  {
   "cell_type": "code",
   "execution_count": 22,
   "metadata": {},
   "outputs": [
    {
     "name": "stdout",
     "output_type": "stream",
     "text": [
      "+-------------------+-------------------+\n",
      "|                Max|                Min|\n",
      "+-------------------+-------------------+\n",
      "|2019-05-02 00:00:00|2011-07-05 00:00:00|\n",
      "+-------------------+-------------------+\n",
      "\n"
     ]
    },
    {
     "data": {
      "text/plain": [
       "1"
      ]
     },
     "execution_count": 22,
     "metadata": {},
     "output_type": "execute_result"
    }
   ],
   "source": [
    "cd=sqlContext.sql(\"select max(PAYMENT_DATE) as Max,min(PAYMENT_DATE) as Min from wb_out_1\")\n",
    "\n",
    "cd.show()\n",
    "cd.count()"
   ]
  },
  {
   "cell_type": "code",
   "execution_count": 44,
   "metadata": {},
   "outputs": [],
   "source": [
    "cdf = cd.toPandas()\n",
    "\n",
    "\n",
    "cdf.to_csv('Wb_L_file_May_2_Gold.csv')"
   ]
  },
  {
   "cell_type": "code",
   "execution_count": 27,
   "metadata": {},
   "outputs": [
    {
     "data": {
      "text/plain": [
       "0"
      ]
     },
     "execution_count": 27,
     "metadata": {},
     "output_type": "execute_result"
    }
   ],
   "source": [
    "co=sqlContext.sql(\"select OM_CRRT_PRIORITY_SCORE from om_out_df where om_algo == 'MA_Ribbon' and cast(OM_CRRT_PRIORITY_SCORE as int)<0 \")\n",
    "\n",
    "co.count()"
   ]
  },
  {
   "cell_type": "code",
   "execution_count": 52,
   "metadata": {},
   "outputs": [
    {
     "name": "stdout",
     "output_type": "stream",
     "text": [
      "+--------------+\n",
      "|max(calc_date)|\n",
      "+--------------+\n",
      "|    2019-03-07|\n",
      "+--------------+\n",
      "\n"
     ]
    }
   ],
   "source": [
    "co=sqlContext.sql(\"select max(calc_date) from om_out_df\")\n",
    "\n",
    "co.show()"
   ]
  },
  {
   "cell_type": "code",
   "execution_count": 54,
   "metadata": {},
   "outputs": [
    {
     "name": "stdout",
     "output_type": "stream",
     "text": [
      "+-------------------+--------------+\n",
      "|OM_SCORE_REL_BUCKET|count(CALC_ID)|\n",
      "+-------------------+--------------+\n",
      "|               High|         13525|\n",
      "|                Low|          7694|\n",
      "|             Middle|         11091|\n",
      "|            Decline|             8|\n",
      "+-------------------+--------------+\n",
      "\n"
     ]
    }
   ],
   "source": [
    "co=sqlContext.sql(\"select OM_SCORE_REL_BUCKET,count(CALC_ID) from om_out_df where calc_date == '2019-03-07' GROUP BY OM_SCORE_REL_BUCKET \")\n",
    "\n",
    "co.show()"
   ]
  },
  {
   "cell_type": "code",
   "execution_count": null,
   "metadata": {},
   "outputs": [],
   "source": []
  }
 ],
 "metadata": {
  "kernelspec": {
   "display_name": "Python 2 Spark - python",
   "language": "python",
   "name": "spark-python"
  },
  "language_info": {
   "codemirror_mode": {
    "name": "ipython",
    "version": 2
   },
   "file_extension": ".py",
   "mimetype": "text/x-python",
   "name": "python",
   "nbconvert_exporter": "python",
   "pygments_lexer": "ipython2",
   "version": "2.7.11"
  }
 },
 "nbformat": 4,
 "nbformat_minor": 2
}
