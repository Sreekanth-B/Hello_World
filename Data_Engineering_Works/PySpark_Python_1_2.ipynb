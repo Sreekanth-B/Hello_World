{
 "cells": [
  {
   "cell_type": "code",
   "execution_count": 1,
   "metadata": {},
   "outputs": [],
   "source": [
    "from pyspark.sql import SparkSession, HiveContext\n",
    "spark = SparkSession.builder.appName('Ops').getOrCreate()\n",
    "\n",
    "from pyspark.sql.types import StructType, StructField\n",
    "from pyspark.sql.types import DoubleType, IntegerType, StringType"
   ]
  },
  {
   "cell_type": "code",
   "execution_count": 2,
   "metadata": {},
   "outputs": [],
   "source": [
    "import pyspark\n",
    "import pandas as pd"
   ]
  },
  {
   "cell_type": "code",
   "execution_count": 3,
   "metadata": {},
   "outputs": [],
   "source": [
    "build_may28= spark.read.option(\"header\",\"true\").option(\"delimiter\",\",\").option(\"inferSchema\", \"true\").format(\"csv\").load(\"/home/qx816/notebooks/Weibull_May28/data/model_input/raw/weibull_x/build.csv\")\n",
    "\n",
    "claim_may28= spark.read.option(\"header\",\"true\").option(\"delimiter\",\",\").option(\"inferSchema\", \"true\").format(\"csv\").load(\"/home/qx816/notebooks/Weibull_May28/data/model_input/raw/weibull_x/claims.csv\")\n"
   ]
  },
  {
   "cell_type": "code",
   "execution_count": 11,
   "metadata": {},
   "outputs": [],
   "source": [
    "fail_may28= spark.read.option(\"header\",\"true\").option(\"delimiter\",\",\").option(\"inferSchema\", \"true\").format(\"csv\").load(\"/home/qx816/notebooks/Weibull_May28/data/model_input/weibull_x/incidents_csv/failcode_input.csv\")\n",
    "\n",
    "fault_may28= spark.read.option(\"header\",\"true\").option(\"delimiter\",\",\").option(\"inferSchema\", \"true\").format(\"csv\").load(\"/home/qx816/notebooks/Weibull_May28/data/model_input/weibull_x/incidents_csv/faultcode_input.csv\")\n"
   ]
  },
  {
   "cell_type": "code",
   "execution_count": 45,
   "metadata": {},
   "outputs": [],
   "source": [
    "fail_ou1= spark.read.option(\"header\",\"true\").option(\"delimiter\",\",\").option(\"inferSchema\", \"true\").format(\"csv\").load(\"/home/qx816/notebooks/ap_25/data/model_output/weibull_b/upload_folder/WEIBULL_2019-05-10_b_BUILD_MONTH.csv\")\n",
    "\n",
    "fail_ou2= spark.read.option(\"header\",\"true\").option(\"delimiter\",\",\").option(\"inferSchema\", \"true\").format(\"csv\").load(\"/home/qx816/notebooks/ap_25/data/model_output/weibull_b/upload_folder/WEIBULL_2019-05-10_b_BUILD_YEAR.csv\")\n",
    "\n",
    "fail_ou3= spark.read.option(\"header\",\"true\").option(\"delimiter\",\",\").option(\"inferSchema\", \"true\").format(\"csv\").load(\"/home/qx816/notebooks/ap_25/data/model_output/weibull_b/upload_folder/CENSOR_DATA_b.csv\")\n"
   ]
  },
  {
   "cell_type": "code",
   "execution_count": 46,
   "metadata": {},
   "outputs": [
    {
     "name": "stdout",
     "output_type": "stream",
     "text": [
      "root\n",
      " |-- REL_USER_APPL_DESC: string (nullable = true)\n",
      " |-- BUILD_MONTH: string (nullable = true)\n",
      " |-- PROGRAM_GROUP_NAME: string (nullable = true)\n",
      " |-- REL_ENGINE_NAME_DESC: string (nullable = true)\n",
      " |-- CODE: string (nullable = true)\n",
      " |-- CALC_DATE: timestamp (nullable = true)\n",
      " |-- RPH_MILEAGE_LOWER_BOUND: double (nullable = true)\n",
      " |-- RPH_MILEAGE_MEDIAN: double (nullable = true)\n",
      " |-- RPH_MILEAGE_UPPER_BOUND: double (nullable = true)\n",
      " |-- RPH_MONTH_IN_SERVICE_LOWER_BOUND: double (nullable = true)\n",
      " |-- RPH_MONTH_IN_SERVICE_MEDIAN: double (nullable = true)\n",
      " |-- RPH_MONTH_IN_SERVICE_UPPER_BOUND: double (nullable = true)\n",
      " |-- SHAPE_MILEAGE_LOWER_BOUND: double (nullable = true)\n",
      " |-- SHAPE_MILEAGE_MEDIAN: double (nullable = true)\n",
      " |-- SHAPE_MILEAGE_UPPER_BOUND: double (nullable = true)\n",
      " |-- SHAPE_MONTH_IN_SERVICE_LOWER_BOUND: double (nullable = true)\n",
      " |-- SHAPE_MONTH_IN_SERVICE_MEDIAN: double (nullable = true)\n",
      " |-- SHAPE_MONTH_IN_SERVICE_UPPER_BOUND: double (nullable = true)\n",
      " |-- SCALE_MILEAGE_LOWER_BOUND: double (nullable = true)\n",
      " |-- SCALE_MILEAGE_MEDIAN: double (nullable = true)\n",
      " |-- SCALE_MILEAGE_UPPER_BOUND: double (nullable = true)\n",
      " |-- SCALE_MONTH_IN_SERVICE_LOWER_BOUND: double (nullable = true)\n",
      " |-- SCALE_MONTH_IN_SERVICE_MEDIAN: double (nullable = true)\n",
      " |-- SCALE_MONTH_IN_SERVICE_UPPER_BOUND: double (nullable = true)\n",
      " |-- CPE_MILEAGE_LOWER_BOUND: double (nullable = true)\n",
      " |-- CPE_MILEAGE_MEDIAN: double (nullable = true)\n",
      " |-- CPE_MILEAGE_UPPER_BOUND: double (nullable = true)\n",
      " |-- CPE_MONTH_IN_SERVICE_LOWER_BOUND: double (nullable = true)\n",
      " |-- CPE_MONTH_IN_SERVICE_MEDIAN: double (nullable = true)\n",
      " |-- CPE_MONTH_IN_SERVICE_UPPER_BOUND: double (nullable = true)\n",
      " |-- ACTUAL_CPE: double (nullable = true)\n",
      " |-- ANALYTICS_RUN_DATE: timestamp (nullable = true)\n",
      " |-- NUM_FAILURES: integer (nullable = true)\n",
      " |-- NUM_SUB_POPULATION: integer (nullable = true)\n",
      " |-- ACTUAL_RPH: double (nullable = true)\n",
      " |-- MESSAGE: string (nullable = true)\n",
      " |-- ENGINE_SERIES: string (nullable = true)\n",
      "\n"
     ]
    },
    {
     "data": {
      "text/plain": [
       "2"
      ]
     },
     "execution_count": 46,
     "metadata": {},
     "output_type": "execute_result"
    }
   ],
   "source": [
    "fail_ou1.printSchema()\n",
    "fail_ou1.count()\n"
   ]
  },
  {
   "cell_type": "code",
   "execution_count": 47,
   "metadata": {},
   "outputs": [
    {
     "name": "stdout",
     "output_type": "stream",
     "text": [
      "root\n",
      " |-- CALC_DATE: timestamp (nullable = true)\n",
      " |-- REL_ENGINE_NAME_DESC: string (nullable = true)\n",
      " |-- REL_USER_APPL_DESC: string (nullable = true)\n",
      " |-- CODE: string (nullable = true)\n",
      " |-- PROGRAM_GROUP_NAME: string (nullable = true)\n",
      " |-- BUILD_YEAR: integer (nullable = true)\n",
      " |-- RPH_MILEAGE_LOWER_BOUND: double (nullable = true)\n",
      " |-- RPH_MILEAGE_MEDIAN: double (nullable = true)\n",
      " |-- RPH_MILEAGE_UPPER_BOUND: double (nullable = true)\n",
      " |-- RPH_MONTH_IN_SERVICE_LOWER_BOUND: double (nullable = true)\n",
      " |-- RPH_MONTH_IN_SERVICE_MEDIAN: double (nullable = true)\n",
      " |-- RPH_MONTH_IN_SERVICE_UPPER_BOUND: double (nullable = true)\n",
      " |-- SHAPE_MILEAGE_LOWER_BOUND: double (nullable = true)\n",
      " |-- SHAPE_MILEAGE_MEDIAN: double (nullable = true)\n",
      " |-- SHAPE_MILEAGE_UPPER_BOUND: double (nullable = true)\n",
      " |-- SHAPE_MONTH_IN_SERVICE_LOWER_BOUND: double (nullable = true)\n",
      " |-- SHAPE_MONTH_IN_SERVICE_MEDIAN: double (nullable = true)\n",
      " |-- SHAPE_MONTH_IN_SERVICE_UPPER_BOUND: double (nullable = true)\n",
      " |-- SCALE_MILEAGE_LOWER_BOUND: double (nullable = true)\n",
      " |-- SCALE_MILEAGE_MEDIAN: double (nullable = true)\n",
      " |-- SCALE_MILEAGE_UPPER_BOUND: double (nullable = true)\n",
      " |-- SCALE_MONTH_IN_SERVICE_LOWER_BOUND: double (nullable = true)\n",
      " |-- SCALE_MONTH_IN_SERVICE_MEDIAN: double (nullable = true)\n",
      " |-- SCALE_MONTH_IN_SERVICE_UPPER_BOUND: double (nullable = true)\n",
      " |-- CPE_MILEAGE_LOWER_BOUND: double (nullable = true)\n",
      " |-- CPE_MILEAGE_MEDIAN: double (nullable = true)\n",
      " |-- CPE_MILEAGE_UPPER_BOUND: double (nullable = true)\n",
      " |-- CPE_MONTH_IN_SERVICE_LOWER_BOUND: double (nullable = true)\n",
      " |-- CPE_MONTH_IN_SERVICE_MEDIAN: double (nullable = true)\n",
      " |-- CPE_MONTH_IN_SERVICE_UPPER_BOUND: double (nullable = true)\n",
      " |-- ACTUAL_CPE: double (nullable = true)\n",
      " |-- ACTUAL_RPH: double (nullable = true)\n",
      " |-- ANALTYICS_RUN_DATE: timestamp (nullable = true)\n",
      " |-- ENGINE_SERIES: string (nullable = true)\n",
      "\n"
     ]
    },
    {
     "data": {
      "text/plain": [
       "2"
      ]
     },
     "execution_count": 47,
     "metadata": {},
     "output_type": "execute_result"
    }
   ],
   "source": [
    "fail_ou2.printSchema()\n",
    "fail_ou2.count()\n"
   ]
  },
  {
   "cell_type": "code",
   "execution_count": 48,
   "metadata": {},
   "outputs": [
    {
     "name": "stdout",
     "output_type": "stream",
     "text": [
      "root\n",
      " |-- ENGINE_SERIAL_NUM: integer (nullable = true)\n",
      " |-- CURRENT_ENGINE_MILES_IMPUTED: double (nullable = true)\n",
      " |-- CURRENT_MONTH_IN_SERVICE_IMPUTED: double (nullable = true)\n",
      " |-- IN_SERVICE_DATE: timestamp (nullable = true)\n",
      " |-- BUILD_DATE: timestamp (nullable = true)\n",
      " |-- PROJECTED_MILEAGE: double (nullable = true)\n",
      " |-- PROJECTED_MONTH_IN_SERVICE: integer (nullable = true)\n",
      " |-- ANALYTICS_RUN_DATE: timestamp (nullable = true)\n",
      " |-- ENGINE_SERIES: string (nullable = true)\n",
      "\n"
     ]
    },
    {
     "data": {
      "text/plain": [
       "5367"
      ]
     },
     "execution_count": 48,
     "metadata": {},
     "output_type": "execute_result"
    }
   ],
   "source": [
    "fail_ou3.printSchema()\n",
    "fail_ou3.count()\n"
   ]
  },
  {
   "cell_type": "code",
   "execution_count": 51,
   "metadata": {},
   "outputs": [],
   "source": [
    "sqlContext.registerDataFrameAsTable(failm_ou1, \"fail_ou1\")\n",
    "sqlContext.registerDataFrameAsTable(fault_ou2, \"fail_ou2\")\n",
    "sqlContext.registerDataFrameAsTable(failm_ou1, \"fail_ou3\")"
   ]
  },
  {
   "cell_type": "code",
   "execution_count": 53,
   "metadata": {},
   "outputs": [
    {
     "name": "stdout",
     "output_type": "stream",
     "text": [
      "+--------------------+-----------------+------------------+------------------+------------------------+------------------+-------------------+----------+-------------------+----+-------------------+\n",
      "|REL_ENGINE_NAME_DESC|ENGINE_SERIAL_NUM|      ENGINE_MILES|PROGRAM_GROUP_NAME|EARLIEST_INDICATION_DATE|REL_USER_APPL_DESC|         BUILD_DATE|NET_AMOUNT|       FAILURE_DATE|CODE|         CLAIM_DATE|\n",
      "+--------------------+-----------------+------------------+------------------+------------------------+------------------+-------------------+----------+-------------------+----+-------------------+\n",
      "|           B6.7 2017|         74095506|      8510.1484375|          WARRANTY|     2017-08-07 00:00:00|              AUTO|2017-01-31 00:00:00|   1281.41|2017-08-07 00:00:00| 124|2017-08-24 00:00:00|\n",
      "|           B6.7 2017|         74178003|       4022.734375|          WARRANTY|     2017-11-08 00:00:00|              AUTO|2017-07-24 00:00:00|   4981.22|2017-11-08 00:00:00| 125|2017-11-28 00:00:00|\n",
      "|           B6.7 2017|         74153462|            5211.0|          WARRANTY|     2017-10-17 00:00:00|              AUTO|2017-06-01 00:00:00|    633.17|2017-10-17 00:00:00| 125|2017-10-31 00:00:00|\n",
      "|           B6.7 2017|         74153936|             131.0|          WARRANTY|     2017-08-04 00:00:00|              AUTO|2017-05-31 00:00:00|     607.5|2017-08-04 00:00:00| 125|2017-08-04 00:00:00|\n",
      "|           B6.7 2017|         74112449|       298.4296875|          WARRANTY|     2017-07-05 00:00:00|              AUTO|2017-03-09 00:00:00|     325.0|2017-07-05 00:00:00| 125|2017-07-19 00:00:00|\n",
      "|           B6.7 2017|         74123003|      3575.2734375|          WARRANTY|     2017-09-15 00:00:00|       BUS, SCHOOL|2017-04-03 00:00:00|    577.46|2017-09-15 00:00:00| 125|2017-10-23 00:00:00|\n",
      "|           B6.7 2017|         74097057|             366.0|          WARRANTY|     2017-06-06 00:00:00|              AUTO|2017-02-02 00:00:00|    752.65|2017-06-06 00:00:00| 125|2017-06-07 00:00:00|\n",
      "|           B6.7 2017|         74176821|30.410099999999996|          WARRANTY|     2017-09-19 00:00:00|       BUS, SCHOOL|2017-07-24 00:00:00|   1152.28|2017-09-19 00:00:00| 125|2017-09-19 00:00:00|\n",
      "|           B6.7 2017|         74126500|            3598.0|          WARRANTY|     2017-08-28 00:00:00|       BUS, SCHOOL|2017-04-11 00:00:00|   1281.93|2017-08-28 00:00:00| 125|2017-08-31 00:00:00|\n",
      "|           B6.7 2017|         74169616|              79.0|          WARRANTY|     2017-08-22 00:00:00|              AUTO|2017-06-30 00:00:00|   1321.99|2017-08-22 00:00:00| 125|2017-08-29 00:00:00|\n",
      "|           B6.7 2017|         74147485|      1620.4296875|          WARRANTY|     2017-07-21 00:00:00|              AUTO|2017-05-18 00:00:00|   1151.47|2017-07-21 00:00:00| 132|2017-12-12 00:00:00|\n",
      "|           B6.7 2017|         74174294|             110.0|          WARRANTY|     2017-08-30 00:00:00|              AUTO|2017-07-13 00:00:00|     399.6|2017-08-30 00:00:00| 144|2017-09-15 00:00:00|\n",
      "|           B6.7 2017|         74120548|       59026.84375|          WARRANTY|     2017-10-23 00:00:00|              AUTO|2017-03-28 00:00:00|     573.1|2017-10-23 00:00:00| 144|2017-10-30 00:00:00|\n",
      "|           B6.7 2017|         74153030|        1225.59375|          WARRANTY|     2017-09-27 00:00:00|       BUS, SCHOOL|2017-05-31 00:00:00|    182.88|2017-09-27 00:00:00| 144|2017-10-03 00:00:00|\n",
      "|           B6.7 2017|         74093196|            7162.0|          WARRANTY|     2017-07-03 00:00:00|              AUTO|2017-01-25 00:00:00|    603.13|2017-07-03 00:00:00| 144|2017-07-17 00:00:00|\n",
      "|           B6.7 2017|         74128066|      3856.0234375|          WARRANTY|     2017-08-31 00:00:00|       BUS, SCHOOL|2017-04-14 00:00:00|     184.0|2017-08-31 00:00:00| 187|2017-09-01 00:00:00|\n",
      "|           B6.7 2017|         74089808|             185.0|          WARRANTY|     2017-02-16 00:00:00|              AUTO|2017-01-16 00:00:00|    2510.1|2017-02-16 00:00:00| 195|2017-03-09 00:00:00|\n",
      "|           B6.7 2017|         74105050|      4446.2109375|          WARRANTY|     2017-11-14 00:00:00|   BUS, NOT SCHOOL|2017-02-21 00:00:00|    369.57|2017-11-14 00:00:00| 195|2017-11-16 00:00:00|\n",
      "|           B6.7 2017|         74093067|               4.0|          WARRANTY|     2017-03-13 00:00:00|              AUTO|2017-01-24 00:00:00|     332.8|2017-03-13 00:00:00| 196|2017-03-14 00:00:00|\n",
      "|           B6.7 2017|         74164646|            1899.0|          WARRANTY|     2017-08-30 00:00:00|       BUS, SCHOOL|2017-06-20 00:00:00|    217.87|2017-08-30 00:00:00| 196|2017-09-05 00:00:00|\n",
      "+--------------------+-----------------+------------------+------------------+------------------------+------------------+-------------------+----------+-------------------+----+-------------------+\n",
      "only showing top 20 rows\n",
      "\n"
     ]
    }
   ],
   "source": [
    "cdk = sqlContext.sql(\"select * from fail_ou2\")\n",
    "\n",
    "cdk.show()"
   ]
  },
  {
   "cell_type": "code",
   "execution_count": null,
   "metadata": {},
   "outputs": [],
   "source": []
  },
  {
   "cell_type": "code",
   "execution_count": null,
   "metadata": {},
   "outputs": [],
   "source": [
    "failm_ou1.printSchema()\n",
    "failm_ou1.count()\n"
   ]
  },
  {
   "cell_type": "code",
   "execution_count": null,
   "metadata": {},
   "outputs": [],
   "source": []
  },
  {
   "cell_type": "code",
   "execution_count": null,
   "metadata": {},
   "outputs": [],
   "source": []
  },
  {
   "cell_type": "code",
   "execution_count": 29,
   "metadata": {},
   "outputs": [
    {
     "name": "stdout",
     "output_type": "stream",
     "text": [
      "root\n",
      " |-- REL_ENGINE_NAME_DESC: string (nullable = true)\n",
      " |-- ENGINE_SERIAL_NUM: integer (nullable = true)\n",
      " |-- ENGINE_MILES: double (nullable = true)\n",
      " |-- PROGRAM_GROUP_NAME: string (nullable = true)\n",
      " |-- EARLIEST_INDICATION_DATE: timestamp (nullable = true)\n",
      " |-- REL_USER_APPL_DESC: string (nullable = true)\n",
      " |-- BUILD_DATE: timestamp (nullable = true)\n",
      " |-- NET_AMOUNT: double (nullable = true)\n",
      " |-- FAILURE_DATE: timestamp (nullable = true)\n",
      " |-- CODE: string (nullable = true)\n",
      " |-- CLAIM_DATE: timestamp (nullable = true)\n",
      "\n"
     ]
    },
    {
     "data": {
      "text/plain": [
       "4154"
      ]
     },
     "execution_count": 29,
     "metadata": {},
     "output_type": "execute_result"
    }
   ],
   "source": [
    "failm_ou1.printSchema()\n",
    "failm_ou1.count()\n"
   ]
  },
  {
   "cell_type": "code",
   "execution_count": 30,
   "metadata": {},
   "outputs": [
    {
     "name": "stdout",
     "output_type": "stream",
     "text": [
      "root\n",
      " |-- REL_ENGINE_NAME_DESC: string (nullable = true)\n",
      " |-- ENGINE_SERIAL_NUM: integer (nullable = true)\n",
      " |-- ENGINE_MILES: double (nullable = true)\n",
      " |-- PROGRAM_GROUP_NAME: string (nullable = true)\n",
      " |-- EARLIEST_INDICATION_DATE: timestamp (nullable = true)\n",
      " |-- REL_USER_APPL_DESC: string (nullable = true)\n",
      " |-- BUILD_DATE: timestamp (nullable = true)\n",
      " |-- NET_AMOUNT: double (nullable = true)\n",
      " |-- FAILURE_DATE: timestamp (nullable = true)\n",
      " |-- CODE: integer (nullable = true)\n",
      " |-- CLAIM_DATE: timestamp (nullable = true)\n",
      "\n"
     ]
    },
    {
     "data": {
      "text/plain": [
       "1430"
      ]
     },
     "execution_count": 30,
     "metadata": {},
     "output_type": "execute_result"
    }
   ],
   "source": [
    "fault_ou2.printSchema()\n",
    "fault_ou2.count()"
   ]
  },
  {
   "cell_type": "code",
   "execution_count": 13,
   "metadata": {},
   "outputs": [],
   "source": [
    "\n",
    "sqlContext.registerDataFrameAsTable(fail_may28, \"fail_may28\")\n",
    "sqlContext.registerDataFrameAsTable(fault_may28, \"fault_may28\")\n"
   ]
  },
  {
   "cell_type": "code",
   "execution_count": 14,
   "metadata": {},
   "outputs": [
    {
     "name": "stdout",
     "output_type": "stream",
     "text": [
      "+-------------------+-------------------+\n",
      "|                Max|                Min|\n",
      "+-------------------+-------------------+\n",
      "|2017-11-30 00:00:00|2017-01-02 00:00:00|\n",
      "+-------------------+-------------------+\n",
      "\n"
     ]
    }
   ],
   "source": [
    "ck = sqlContext.sql(\"select max(BUILD_DATE) as Max, min(BUILD_DATE) as Min from fail_may28\")\n",
    "\n",
    "ck.show()"
   ]
  },
  {
   "cell_type": "code",
   "execution_count": 15,
   "metadata": {},
   "outputs": [
    {
     "name": "stdout",
     "output_type": "stream",
     "text": [
      "+-------------------+-------------------+\n",
      "|                Max|                Min|\n",
      "+-------------------+-------------------+\n",
      "|2017-11-15 00:00:00|2017-01-02 00:00:00|\n",
      "+-------------------+-------------------+\n",
      "\n"
     ]
    }
   ],
   "source": [
    "ck = sqlContext.sql(\"select max(BUILD_DATE) as Max, min(BUILD_DATE) as Min from fault_may28\")\n",
    "\n",
    "ck.show()"
   ]
  },
  {
   "cell_type": "code",
   "execution_count": 4,
   "metadata": {},
   "outputs": [
    {
     "name": "stdout",
     "output_type": "stream",
     "text": [
      "root\n",
      " |-- ESN: string (nullable = true)\n",
      " |-- ENG_NAME: string (nullable = true)\n",
      " |-- BUILD_YEAR: string (nullable = true)\n",
      " |-- CPL_NUM: string (nullable = true)\n",
      " |-- DESIGN_CONFIG_NUM: string (nullable = true)\n",
      " |-- DESIGN_HSP_NUM: integer (nullable = true)\n",
      " |-- DESIGN_RPM_NUM: integer (nullable = true)\n",
      " |-- ECM_PART_NO: integer (nullable = true)\n",
      " |-- EMISSIONS_FAMILY_CODE: string (nullable = true)\n",
      " |-- ENGINE_GROUP_DESC: string (nullable = true)\n",
      " |-- EPA_NAME: string (nullable = true)\n",
      " |-- MKTG_CONFIG_NUM: string (nullable = true)\n",
      " |-- MKTG_HSP_NUM: integer (nullable = true)\n",
      " |-- MKTG_RPM_NUM: integer (nullable = true)\n",
      " |-- OEM_NAME: string (nullable = true)\n",
      " |-- SERVICE_ENGINE_MODEL: string (nullable = true)\n",
      " |-- SHOP_ORDER_NUM: integer (nullable = true)\n",
      " |-- TRUCK_MODEL: string (nullable = true)\n",
      " |-- ENGINE_SERIAL_NUM: integer (nullable = true)\n",
      " |-- BUILD_DATE: timestamp (nullable = true)\n",
      " |-- BUILD_MONTH: string (nullable = true)\n",
      " |-- USER_APPL_CODE: integer (nullable = true)\n",
      " |-- DESIGN_APPLICATION_CODE: string (nullable = true)\n",
      " |-- SHIP_DATE: timestamp (nullable = true)\n",
      " |-- IN_SERVICE_DATE: timestamp (nullable = true)\n",
      " |-- DESIGN_PHASE_CODE: string (nullable = true)\n",
      " |-- USER_APPL_DESC: string (nullable = true)\n",
      " |-- OEM_GROUP: string (nullable = true)\n",
      " |-- BUILD_QTR: string (nullable = true)\n",
      " |-- OEM_CODE: double (nullable = true)\n",
      " |-- BUILD_DAY_OF_WEEK: string (nullable = true)\n",
      " |-- BUILT_ON_WEEKEND: boolean (nullable = true)\n",
      " |-- CMP_TIME_DIFF_BUILDDATE_TO_INSERVICEDATE_DAYS: double (nullable = true)\n",
      " |-- CUSTOMER_NAME: string (nullable = true)\n",
      " |-- REL_CMP_PROGRAM_GROUP_CODE: integer (nullable = true)\n",
      " |-- REL_OEMCHAS_PAC_ESN: integer (nullable = true)\n",
      " |-- REL_OEMCHAS_PAC_AIR_CLEANER_DESC: string (nullable = true)\n",
      " |-- REL_OEMCHAS_PAC_ALTERNATOR_DESC: string (nullable = true)\n",
      " |-- REL_OEMCHAS_PAC_BASE_MODEL: integer (nullable = true)\n",
      " |-- REL_OEMCHAS_PAC_CHASSIS_NUM: integer (nullable = true)\n",
      " |-- REL_OEMCHAS_PAC_COMMODITY_DESC: string (nullable = true)\n",
      " |-- REL_OEMCHAS_PAC_DEF_TANK_DESC: string (nullable = true)\n",
      " |-- REL_OEMCHAS_PAC_DEF_TANK_LOC: string (nullable = true)\n",
      " |-- REL_OEMCHAS_PAC_EXHAUST_SYSTEM_DESC: string (nullable = true)\n",
      " |-- REL_OEMCHAS_PAC_FAN_HUB_DESC: string (nullable = true)\n",
      " |-- REL_OEMCHAS_PAC_HIGHWAY_PCT: double (nullable = true)\n",
      " |-- REL_OEMCHAS_PAC_INTENDED_SERVICE_DESC: string (nullable = true)\n",
      " |-- REL_OEMCHAS_PAC_OEM_PLANT_CD: string (nullable = true)\n",
      " |-- REL_OEMCHAS_PAC_RADIATOR_DESC: string (nullable = true)\n",
      " |-- REL_OEMCHAS_PAC_TRANSMISSION_DESC: string (nullable = true)\n",
      " |-- REL_OEMCHAS_NAV_ESN: integer (nullable = true)\n",
      " |-- REL_OEMCHAS_NAV_ALTERNATOR_DESC: string (nullable = true)\n",
      " |-- REL_OEMCHAS_NAV_CUST_40_NME: string (nullable = true)\n",
      " |-- REL_OEMCHAS_NAV_DEF_TANK_DESC: string (nullable = true)\n",
      " |-- REL_OEMCHAS_NAV_EXHAUST_DESC: string (nullable = true)\n",
      " |-- REL_OEMCHAS_NAV_FAN_DRIVE_DESC: string (nullable = true)\n",
      " |-- REL_OEMCHAS_NAV_GEAR_RATIO: double (nullable = true)\n",
      " |-- REL_OEMCHAS_NAV_TRANSMISSION_DESC: string (nullable = true)\n",
      " |-- REL_OEMCHAS_NAV_VEH_APPL_NME: string (nullable = true)\n",
      " |-- PART_SUPPLIER_LST: string (nullable = true)\n",
      " |-- ISSUE_PART_LST: string (nullable = true)\n",
      " |-- OPT_ITEM: string (nullable = true)\n",
      " |-- OEM_NORMALIZED_GROUP: string (nullable = true)\n",
      "\n"
     ]
    },
    {
     "data": {
      "text/plain": [
       "4803489"
      ]
     },
     "execution_count": 4,
     "metadata": {},
     "output_type": "execute_result"
    }
   ],
   "source": [
    "build_may28.printSchema()\n",
    "build_may28.count()"
   ]
  },
  {
   "cell_type": "code",
   "execution_count": 5,
   "metadata": {},
   "outputs": [
    {
     "name": "stdout",
     "output_type": "stream",
     "text": [
      "root\n",
      " |-- ENG_NAME: string (nullable = true)\n",
      " |-- ENGINE_SERIAL_NUM: integer (nullable = true)\n",
      " |-- BUILD_DATE: timestamp (nullable = true)\n",
      " |-- BUILD_MONTH: string (nullable = true)\n",
      " |-- FAIL_CODE: string (nullable = true)\n",
      " |-- IN_SERVICE_DATE: timestamp (nullable = true)\n",
      " |-- FAILURE_DATE: timestamp (nullable = true)\n",
      " |-- USER_APPL_CODE: integer (nullable = true)\n",
      " |-- ENGINE_MILES: double (nullable = true)\n",
      " |-- ENGINE_HRS: double (nullable = true)\n",
      " |-- CLAIM_DATE: timestamp (nullable = true)\n",
      " |-- PROGRAM_GROUP_CODE: integer (nullable = true)\n",
      " |-- PROGRAM_GROUP_NAME: string (nullable = true)\n",
      " |-- PAYMENT_DATE: timestamp (nullable = true)\n",
      " |-- MATERIALS_AMOUNT: double (nullable = true)\n",
      " |-- LABOR_HOURS: double (nullable = true)\n",
      " |-- MARKUP_AMOUNT: double (nullable = true)\n",
      " |-- REPAIR_LABOR_AMOUNT: double (nullable = true)\n",
      " |-- TRAVEL_LABOR_AMOUNT: double (nullable = true)\n",
      " |-- UNDETAILED_PARTS_AMOUNT: double (nullable = true)\n",
      " |-- INVOICE_AMOUNT: double (nullable = true)\n",
      " |-- NET_AMOUNT: double (nullable = true)\n",
      " |-- BUILD_QTR: string (nullable = true)\n",
      " |-- OEM_CODE: integer (nullable = true)\n",
      "\n"
     ]
    },
    {
     "data": {
      "text/plain": [
       "5414"
      ]
     },
     "execution_count": 5,
     "metadata": {},
     "output_type": "execute_result"
    }
   ],
   "source": [
    "claim_may28.printSchema()\n",
    "claim_may28.count()"
   ]
  },
  {
   "cell_type": "code",
   "execution_count": 6,
   "metadata": {},
   "outputs": [],
   "source": [
    "sqlContext.registerDataFrameAsTable(build_may28, \"build_may28\")\n",
    "sqlContext.registerDataFrameAsTable(claim_may28, \"claim_may28\")"
   ]
  },
  {
   "cell_type": "code",
   "execution_count": 7,
   "metadata": {},
   "outputs": [
    {
     "name": "stdout",
     "output_type": "stream",
     "text": [
      "+-------------------+-------------------+\n",
      "|                max|                min|\n",
      "+-------------------+-------------------+\n",
      "|2017-12-29 00:00:00|2017-01-02 00:00:00|\n",
      "+-------------------+-------------------+\n",
      "\n"
     ]
    }
   ],
   "source": [
    "ck=sqlContext.sql(\"select max(BUILD_DATE) as max, min(BUILD_DATE) as min from build_may28\")\n",
    "\n",
    "ck.show()"
   ]
  },
  {
   "cell_type": "code",
   "execution_count": 8,
   "metadata": {},
   "outputs": [
    {
     "name": "stdout",
     "output_type": "stream",
     "text": [
      "+-------------------+-------------------+\n",
      "|                max|                min|\n",
      "+-------------------+-------------------+\n",
      "|2017-11-30 00:00:00|2017-01-02 00:00:00|\n",
      "+-------------------+-------------------+\n",
      "\n"
     ]
    }
   ],
   "source": [
    "ck=sqlContext.sql(\"select max(BUILD_DATE) as max, min(BUILD_DATE) as min from claim_may28\")\n",
    "ck.show()"
   ]
  },
  {
   "cell_type": "code",
   "execution_count": 9,
   "metadata": {},
   "outputs": [
    {
     "name": "stdout",
     "output_type": "stream",
     "text": [
      "+-------------------+-------------------+\n",
      "|                max|                min|\n",
      "+-------------------+-------------------+\n",
      "|2017-12-29 00:00:00|2017-01-26 00:00:00|\n",
      "+-------------------+-------------------+\n",
      "\n"
     ]
    }
   ],
   "source": [
    "ck=sqlContext.sql(\"select max(CLAIM_DATE) as max, min(CLAIM_DATE) as min from claim_may28\")\n",
    "ck.show()"
   ]
  },
  {
   "cell_type": "code",
   "execution_count": null,
   "metadata": {},
   "outputs": [],
   "source": []
  },
  {
   "cell_type": "code",
   "execution_count": 143,
   "metadata": {},
   "outputs": [
    {
     "name": "stdout",
     "output_type": "stream",
     "text": [
      "+--------------------------+\n",
      "|REL_CMP_PROGRAM_GROUP_CODE|\n",
      "+--------------------------+\n",
      "|                      null|\n",
      "|                         1|\n",
      "|                         6|\n",
      "|                         3|\n",
      "|                         5|\n",
      "|                         4|\n",
      "|                         8|\n",
      "|                         2|\n",
      "|                        99|\n",
      "+--------------------------+\n",
      "\n"
     ]
    }
   ],
   "source": [
    "cd=sqlContext.sql(\"select distinct(REL_CMP_PROGRAM_GROUP_CODE) from build_may28 \")\n",
    "cd.show()\n"
   ]
  },
  {
   "cell_type": "code",
   "execution_count": 154,
   "metadata": {},
   "outputs": [
    {
     "data": {
      "text/plain": [
       "5371"
      ]
     },
     "execution_count": 154,
     "metadata": {},
     "output_type": "execute_result"
    }
   ],
   "source": [
    "cd = sqlContext.sql(\" select distinct(ENGINE_SERIAL_NUM) from build_may28 where ENG_NAME == 'B6.7 2017' and BUILD_MONTH == '2017 02' and USER_APPL_DESC == 'AUTO' \")\n",
    "\n",
    "\n",
    "\n",
    "cd.count()\n"
   ]
  },
  {
   "cell_type": "code",
   "execution_count": 146,
   "metadata": {},
   "outputs": [
    {
     "name": "stdout",
     "output_type": "stream",
     "text": [
      "+--------+\n",
      "|     dis|\n",
      "+--------+\n",
      "|79982161|\n",
      "|79980728|\n",
      "|79983796|\n",
      "|79982134|\n",
      "|79980350|\n",
      "|79978882|\n",
      "|79981853|\n",
      "|79981432|\n",
      "|79982806|\n",
      "|79981115|\n",
      "|79979925|\n",
      "|79981593|\n",
      "|79982185|\n",
      "|79983548|\n",
      "|79981438|\n",
      "+--------+\n",
      "\n"
     ]
    },
    {
     "data": {
      "text/plain": [
       "15"
      ]
     },
     "execution_count": 146,
     "metadata": {},
     "output_type": "execute_result"
    }
   ],
   "source": [
    "cd=sqlContext.sql(\"select distinct(ENGINE_SERIAL_NUM) as dis from claim_may28 where ENG_NAME == 'X15 1 2017' and build_month == '2017 05' and FAIL_CODE == 'THAS' and PROGRAM_GROUP_NAME == 'WARRANTY' and USER_APPL_CODE == '100'\")\n",
    "\n",
    "cd.show()\n",
    "cd.count()"
   ]
  },
  {
   "cell_type": "code",
   "execution_count": null,
   "metadata": {},
   "outputs": [],
   "source": [
    "cd=sqlContext.sql(\"select max(BUILD_DATE) as Build, max(PAYMENT_DATE) as PAY from claim_may28 where ENG_NAME == 'X15 1 2017' and build_month == '2017 05' and FAIL_CODE == 'THAS' and PROGRAM_GROUP_NAME == 'WARRANTY' group by ENGINE_SERIAL_NUM \")\n",
    "\n",
    "cd.show()\n",
    "cd.count()\n",
    "\n",
    "sqlContext.registerDataFrameAsTable(cd, \"cd\")"
   ]
  },
  {
   "cell_type": "code",
   "execution_count": 124,
   "metadata": {},
   "outputs": [
    {
     "name": "stdout",
     "output_type": "stream",
     "text": [
      "+-------+\n",
      "|    SUM|\n",
      "+-------+\n",
      "|1119.22|\n",
      "|6538.28|\n",
      "|1202.31|\n",
      "|1026.85|\n",
      "+-------+\n",
      "\n"
     ]
    }
   ],
   "source": [
    "cd=sqlContext.sql(\"select sum(NET_amount) as SUM from claim_may28 where ENG_NAME == 'X15 1 2017' and build_month == '2017 05' and FAIL_CODE == 'THAS' and PROGRAM_GROUP_NAME == 'WARRANTY' group by ENGINE_SERIAL_NUM \")\n",
    "\n",
    "cd.show()\n",
    "cd.count()\n",
    "\n",
    "sqlContext.registerDataFrameAsTable(cd, \"cd\")"
   ]
  },
  {
   "cell_type": "code",
   "execution_count": 125,
   "metadata": {},
   "outputs": [
    {
     "name": "stdout",
     "output_type": "stream",
     "text": [
      "+--------+\n",
      "|sum(SUM)|\n",
      "+--------+\n",
      "| 9886.66|\n",
      "+--------+\n",
      "\n"
     ]
    }
   ],
   "source": [
    "ck = sqlContext.sql(\"select sum(SUM) from cd\")\n",
    "ck.show()"
   ]
  },
  {
   "cell_type": "code",
   "execution_count": 121,
   "metadata": {},
   "outputs": [
    {
     "name": "stdout",
     "output_type": "stream",
     "text": [
      "+---------+-----------------+-------------------+-----------+---------+-------------------+-------------------+--------------+------------+----------+-------------------+------------------+------------------+-------------------+----------------+-----------+-------------+-------------------+-------------------+-----------------------+--------------+----------+---------+--------+\n",
      "| ENG_NAME|ENGINE_SERIAL_NUM|         BUILD_DATE|BUILD_MONTH|FAIL_CODE|    IN_SERVICE_DATE|       FAILURE_DATE|USER_APPL_CODE|ENGINE_MILES|ENGINE_HRS|         CLAIM_DATE|PROGRAM_GROUP_CODE|PROGRAM_GROUP_NAME|       PAYMENT_DATE|MATERIALS_AMOUNT|LABOR_HOURS|MARKUP_AMOUNT|REPAIR_LABOR_AMOUNT|TRAVEL_LABOR_AMOUNT|UNDETAILED_PARTS_AMOUNT|INVOICE_AMOUNT|NET_AMOUNT|BUILD_QTR|OEM_CODE|\n",
      "+---------+-----------------+-------------------+-----------+---------+-------------------+-------------------+--------------+------------+----------+-------------------+------------------+------------------+-------------------+----------------+-----------+-------------+-------------------+-------------------+-----------------------+--------------+----------+---------+--------+\n",
      "|B6.7 2017|         74097022|2017-02-02 00:00:00|    2017 02|     IRCL|2017-06-09 00:00:00|2017-09-15 00:00:00|           100|     22289.0|       0.0|2017-10-26 00:00:00|                 1|          WARRANTY|2017-10-27 00:00:00|         3143.34|       19.5|        834.5|             2437.5|                0.0|                    0.0|        9317.0|   6538.28|   2017 1|    1485|\n",
      "|B6.7 2017|         74098971|2017-02-08 00:00:00|    2017 02|     IRCL|2017-05-09 00:00:00|2017-11-20 00:00:00|           200|      2614.0|       0.0|2017-12-14 00:00:00|                 1|          WARRANTY|2017-12-15 00:00:00|          756.88|        3.8|       227.06|              532.0|                0.0|                    0.0|       10658.0|   1648.93|   2017 1|    8586|\n",
      "|B6.7 2017|         74099500|2017-02-08 00:00:00|    2017 02|     IRCL|2017-05-09 00:00:00|2017-07-18 00:00:00|           100|     10088.0|       0.0|2017-08-02 00:00:00|                 1|          WARRANTY|2017-08-04 00:00:00|          923.72|        2.3|          0.0|              195.5|                0.0|                    0.0|        9845.0|   1119.22|   2017 1|    9147|\n",
      "|B6.7 2017|         74099820|2017-02-14 00:00:00|    2017 02|     IRCL|2017-03-30 00:00:00|2017-05-18 00:00:00|           100|      4876.0|       0.0|2017-05-22 00:00:00|                 1|          WARRANTY|2017-05-24 00:00:00|            5.41|        1.8|         1.62|              225.0|                0.0|                    0.0|       10059.0|   1202.31|   2017 1|    2758|\n",
      "|B6.7 2017|         74100309|2017-02-14 00:00:00|    2017 02|     IRCL|2017-07-03 00:00:00|2017-11-10 00:00:00|           200|      4499.0|       0.0|2017-11-20 00:00:00|                 1|          WARRANTY|2017-11-21 00:00:00|          769.38|        7.1|       230.81|              859.1|                0.0|                    0.0|       10798.0|   1891.49|   2017 1|    1123|\n",
      "|B6.7 2017|         74101173|2017-02-10 00:00:00|    2017 02|     IRCL|2017-04-20 00:00:00|2017-09-05 00:00:00|           100|     16137.0|       0.0|2017-09-14 00:00:00|                 1|          WARRANTY|2017-09-15 00:00:00|          831.35|        2.3|          0.0|              195.5|                0.0|                    0.0|        9845.0|   1026.85|   2017 1|    8588|\n",
      "+---------+-----------------+-------------------+-----------+---------+-------------------+-------------------+--------------+------------+----------+-------------------+------------------+------------------+-------------------+----------------+-----------+-------------+-------------------+-------------------+-----------------------+--------------+----------+---------+--------+\n",
      "\n"
     ]
    },
    {
     "data": {
      "text/plain": [
       "6"
      ]
     },
     "execution_count": 121,
     "metadata": {},
     "output_type": "execute_result"
    }
   ],
   "source": [
    "cd=sqlContext.sql(\"select *  from claim_may28 where ENG_NAME == 'B6.7 2017' and BUILD_MONTH == '2017 02' and FAIL_CODE == 'IRCL' and PROGRAM_GROUP_NAME == 'WARRANTY' and year(PAYMENT_DATE) == 2017 and year(BUILD_DATE) == 2017 order by ENGINE_SERIAL_NUM \")\n",
    "\n",
    "cd.show()\n",
    "cd.count()"
   ]
  },
  {
   "cell_type": "code",
   "execution_count": null,
   "metadata": {},
   "outputs": [],
   "source": []
  },
  {
   "cell_type": "code",
   "execution_count": 91,
   "metadata": {},
   "outputs": [
    {
     "name": "stdout",
     "output_type": "stream",
     "text": [
      "+--------+\n",
      "|sum(SUM)|\n",
      "+--------+\n",
      "|13427.08|\n",
      "+--------+\n",
      "\n"
     ]
    }
   ],
   "source": [
    "ck = sqlContext.sql(\"select sum(SUM) from cd\")\n",
    "ck.show()"
   ]
  },
  {
   "cell_type": "code",
   "execution_count": null,
   "metadata": {},
   "outputs": [],
   "source": []
  },
  {
   "cell_type": "code",
   "execution_count": null,
   "metadata": {},
   "outputs": [],
   "source": []
  },
  {
   "cell_type": "code",
   "execution_count": null,
   "metadata": {},
   "outputs": [],
   "source": []
  },
  {
   "cell_type": "code",
   "execution_count": 44,
   "metadata": {},
   "outputs": [
    {
     "name": "stdout",
     "output_type": "stream",
     "text": [
      "+-------------------+-------------------+\n",
      "|                Max|                Min|\n",
      "+-------------------+-------------------+\n",
      "|2017-12-29 00:00:00|2017-01-30 00:00:00|\n",
      "+-------------------+-------------------+\n",
      "\n"
     ]
    },
    {
     "data": {
      "text/plain": [
       "1"
      ]
     },
     "execution_count": 44,
     "metadata": {},
     "output_type": "execute_result"
    }
   ],
   "source": [
    "cd=sqlContext.sql(\"select max(PAYMENT_DATE) as Max,min(PAYMENT_DATE) as Min from om_out_2\")\n",
    "\n",
    "cd.show()\n",
    "cd.count()"
   ]
  },
  {
   "cell_type": "code",
   "execution_count": null,
   "metadata": {},
   "outputs": [],
   "source": []
  },
  {
   "cell_type": "code",
   "execution_count": 34,
   "metadata": {},
   "outputs": [
    {
     "name": "stdout",
     "output_type": "stream",
     "text": [
      "+--------------------+-------------------+----+----------------------+----------------------+------------+------------+------------+------+---------+---------------------+------+-----------+------------------+------------------+------------------+--------------------+-------------------+------------------------+-----------------------------------+--------------------------------------------+-------------+--------------------+------------------+------------------+---------+--------------------+--------------------+------------+----------+------------------+------------------------+------------+-------------------+-----------------------------+--------------------+------------------------+\n",
      "|             CALC_ID|          CALC_DATE|CODE|OM_CRRT_PRIORITY_SCORE|OM_PREV_PRIORITY_SCORE|OM_OUTPUT_01|OM_OUTPUT_02|OM_OUTPUT_03|SOURCE|  OM_ALGO|OM_RUN_ANALYTICS_DATE|OM_NBR|OM_NBR_PREV|          OM_SCORE|    OM_SCORE_DELTA|      OM_SCORE_REL|   OM_SCORE_REL_PREV|OM_SCORE_REL_BUCKET|OM_SCORE_REL_PREV_BUCKET|OM_WEIBULL_SCORE_RPH_MILEAGE_MEDIAN|OM_WEIBULL_SCORE_RPH_MONTH_IN_SERVICE_MEDIAN|ENGINE_SERIES|REL_ENGINE_NAME_DESC|PROGRAM_GROUP_NAME|          OM_DELTA|OM_METRIC|              OM_KEY|         OM_JIRA_URL|BUILD_VOLUME|BUILD_YEAR|REL_USER_APPL_DESC|EARLIEST_OCCURRENCE_DATE|OM_NBR_CUMUL|OM_NBR_CUMUL_BUCKET|OM_CRRT_PRIORITY_SCORE_BUCKET|REL_MONTH_BUILD_DATE|REL_OEM_NORMALIZED_GROUP|\n",
      "+--------------------+-------------------+----+----------------------+----------------------+------------+------------+------------+------+---------+---------------------+------+-----------+------------------+------------------+------------------+--------------------+-------------------+------------------------+-----------------------------------+--------------------------------------------+-------------+--------------------+------------------+------------------+---------+--------------------+--------------------+------------+----------+------------------+------------------------+------------+-------------------+-----------------------------+--------------------+------------------------+\n",
      "|3382-AUTO-L-ISL 2...|2017-05-11 00:00:00|3382|       5.0110768175583|                   0.0|        null|        null|        null|   EDS|MA_Ribbon|  2019-05-05 00:00:00|   5.0|        0.0|  0.83517946959305|  4.93201303155007|   3.3407178783722| 0.31625514403292204|               High|                  Middle|                               null|                                        null|            L|            ISL 2013|          WARRANTY|   5.0110768175583|COUNT_NBR|3382-AUTO-L-ISL 2...|https://cumminsit...|       29453|      2015|              AUTO|     2017-05-11 00:00:00|         5.0|               High|                         High| 2015-02-01 00:00:00|                  OTHERS|\n",
      "|3582-AUTO-L-ISL 2...|2017-05-11 00:00:00|3582|      3.53196657542768|                   0.0|        null|        null|        null|   EDS|MA_Ribbon|  2019-05-05 00:00:00|   5.0|        2.0|0.5886610959046129|5.0319001824779805| 0.743571910616353|  -0.374983401762575|               High|                 Decline|                               null|                                        null|            L|            ISL 2013|          WARRANTY|  3.53196657542768|COUNT_NBR|3582-AUTO-L-ISL 2...|https://cumminsit...|       25449|      2014|              AUTO|     2017-05-11 00:00:00|         5.0|               High|                         High| 2014-02-01 00:00:00|                 DAIMLER|\n",
      "|EDCB-BUS, NOT SCH...|2017-05-11 00:00:00|EDCB|                6.9125|                   0.0|        null|        null|        null|   REL|MA_Ribbon|  2019-05-05 00:00:00|   7.0|        1.0|  1.15208333333333|            6.9125|              3.95|                 0.0|               High|                     Low|                               null|                                        null|            L|            ISL 2013|          WARRANTY|            6.9125|COUNT_NBR|EDCB-BUS, NOT SCH...|https://cumminsit...|        3672|      2015|   BUS, NOT SCHOOL|     2017-05-11 00:00:00|         7.0|               High|                         High| 2015-06-01 00:00:00|                  OTHERS|\n",
      "|EQPE-AUTO-B-ISB6....|2017-05-11 00:00:00|EQPE|      5.92500000000003|                   0.0|        null|        null|        null|   REL|MA_Ribbon|  2019-05-05 00:00:00|   6.0|        3.0| 0.987500000000005|  5.92499999999994|  3.95000000000002|                 0.0|               High|                     Low|                               null|                                        null|            B|         ISB6.7 2013|          WARRANTY|  5.92500000000003|COUNT_NBR|EQPE-AUTO-B-ISB6....|https://cumminsit...|       59611|      2015|              AUTO|     2017-05-11 00:00:00|         6.0|               High|                         High| 2015-07-01 00:00:00|                 DAIMLER|\n",
      "|EQPE-BUS, SCHOOL-...|2017-05-11 00:00:00|EQPE|      6.98822971373986|                   0.0|        null|        null|        null|   REL|MA_Ribbon|  2019-05-05 00:00:00|   8.0|        0.0|  1.16470495228998|7.8277072391869496|  1.16470495228998|-0.19752412363461103|               High|                 Decline|                               null|                                        null|            B|         ISB6.7 2013|          WARRANTY|  6.98822971373986|COUNT_NBR|EQPE-BUS, SCHOOL-...|https://cumminsit...|       25210|      2014|       BUS, SCHOOL|     2017-05-11 00:00:00|         8.0|               High|                         High| 2014-10-01 00:00:00|                 DAIMLER|\n",
      "|EQPE-BUS, SCHOOL-...|2017-05-11 00:00:00|EQPE|    4.4709688140570405|                   0.0|        null|        null|        null|   REL|MA_Ribbon|  2019-05-05 00:00:00|   5.0|        0.0|0.7451614690095079|  4.81222903855258|1.7883875256228199|  -0.273008179596425|               High|                 Decline|                               null|                                        null|            B|         ISB6.7 2013|          WARRANTY|4.4709688140570405|COUNT_NBR|EQPE-BUS, SCHOOL-...|https://cumminsit...|       26670|      2015|       BUS, SCHOOL|     2017-05-11 00:00:00|         5.0|               High|                         High| 2015-04-01 00:00:00|                NAVISTAR|\n",
      "|EQPE-BUS, SCHOOL-...|2017-05-11 00:00:00|EQPE|      7.32730338535159|                   0.0|        null|        null|        null|   REL|MA_Ribbon|  2019-05-05 00:00:00|   7.0|        3.0|1.2212172308919298|  6.46622656263014|  2.93092135414064|    1.14810243029526|               High|                    High|                               null|                                        null|            B|         ISB6.7 2013|          WARRANTY|  7.32730338535159|COUNT_NBR|EQPE-BUS, SCHOOL-...|https://cumminsit...|       26670|      2015|       BUS, SCHOOL|     2017-05-11 00:00:00|         7.0|               High|                         High| 2015-07-01 00:00:00|                NAVISTAR|\n",
      "|KHBT-BUS, SCHOOL-...|2017-05-11 00:00:00|KHBT|      4.24049123035096|                   0.0|        null|        null|        null|   REL|MA_Ribbon|  2019-05-05 00:00:00|   5.0|        0.0| 0.706748538391827|   4.5398508726314|  1.13079766142692|  -0.119743856912176|               High|                 Decline|                               null|                                        null|            B|         ISB6.7 2013|          WARRANTY|  4.24049123035096|COUNT_NBR|KHBT-BUS, SCHOOL-...|https://cumminsit...|       25210|      2014|       BUS, SCHOOL|     2017-05-11 00:00:00|         5.0|               High|                         High| 2014-11-01 00:00:00|                NAVISTAR|\n",
      "|EQPE-BUS, SCHOOL-...|2017-05-18 00:00:00|EQPE|      6.70036064862079|     4.417748612529049|        null|        null|        null|   REL|MA_Ribbon|  2019-05-05 00:00:00|   5.0|        0.0|  1.11672677477013|  2.28261203609175| 0.864562664338167|   0.654481275930229|             Middle|                    High|                               null|                                        null|            B|         ISB6.7 2013|          WARRANTY|  2.28261203609175|COUNT_NBR|EQPE-BUS, SCHOOL-...|https://cumminsit...|       30400|      2016|       BUS, SCHOOL|     2017-05-11 00:00:00|         9.0|               High|                         High| 2016-06-01 00:00:00|                NAVISTAR|\n",
      "|EQPE-BUS, SCHOOL-...|2017-05-18 00:00:00|EQPE|      5.21153984820724|    0.9346195446217109|        null|        null|        null|   REL|MA_Ribbon|  2019-05-05 00:00:00|   5.0|        0.0|0.8685899747012059|  4.27692030358553|1.7371799494024098|   0.534068311212406|               High|                  Middle|                               null|                                        null|            B|         ISB6.7 2013|          WARRANTY|  4.27692030358553|COUNT_NBR|EQPE-BUS, SCHOOL-...|https://cumminsit...|       25210|      2014|       BUS, SCHOOL|     2017-05-11 00:00:00|         6.0|               High|                         High| 2014-04-01 00:00:00|                  OTHERS|\n",
      "|1894-BUS, NOT SCH...|2017-05-25 00:00:00|1894|      5.54075502094141|    0.0430983961575704|        null|        null|        null|   EDS|MA_Ribbon|  2019-05-05 00:00:00|   6.0|        0.0|0.9234591701569019|  5.49765662478384|  1.23127889354254|  0.0143661320525235|               High|                     Low|                               null|                                        null|            L|            ISL 2013|          WARRANTY|  5.49765662478384|COUNT_NBR|1894-BUS, NOT SCH...|https://cumminsit...|        3672|      2015|   BUS, NOT SCHOOL|     2017-05-11 00:00:00|         7.0|               High|                         High| 2015-03-01 00:00:00|                  OTHERS|\n",
      "|3582-AUTO-L-ISL 2...|2017-05-25 00:00:00|3582|      2.14444623496178|   -2.6416612951146496|        null|        null|        null|   EDS|MA_Ribbon|  2019-05-05 00:00:00|   5.0|        0.0| 0.357407705826964|  4.78610753007643| 0.317695738512857|  -0.459419355672112|                Low|                 Decline|                               null|                                        null|            L|            ISL 2013|          WARRANTY|  4.78610753007643|COUNT_NBR|3582-AUTO-L-ISL 2...|https://cumminsit...|       25449|      2014|              AUTO|     2017-05-11 00:00:00|         6.0|               High|                         High| 2014-07-01 00:00:00|                  OTHERS|\n",
      "|KHBT-BUS, SCHOOL-...|2017-05-25 00:00:00|KHBT|    5.3265588920358695|  -0.33698999055903894|        null|        null|        null|   REL|MA_Ribbon|  2019-05-05 00:00:00|   6.0|        0.0|0.8877598153393119|  5.66354888259491|0.8522494227257399| -0.0641885696302932|             Middle|                 Decline|                               null|                                        null|            B|         ISB6.7 2013|          WARRANTY|  5.66354888259491|COUNT_NBR|KHBT-BUS, SCHOOL-...|https://cumminsit...|       26670|      2015|       BUS, SCHOOL|     2017-05-18 00:00:00|         7.0|               High|                         High| 2015-04-01 00:00:00|                NAVISTAR|\n",
      "|3382-AUTO-L-ISL 2...|2017-06-01 00:00:00|3382|      6.22452631715441|      2.14024561812989|        null|        null|        null|   EDS|MA_Ribbon|  2019-05-05 00:00:00|   5.0|        1.0|  1.03742105285907|  4.08428069902452|  1.38322807047876|  0.6114987480371109|               High|                  Middle|                               null|                                        null|            L|            ISL 2013|          WARRANTY|  4.08428069902452|COUNT_NBR|3382-AUTO-L-ISL 2...|https://cumminsit...|       25449|      2014|              AUTO|     2017-05-18 00:00:00|        10.0|               High|                         High| 2014-08-01 00:00:00|                 DAIMLER|\n",
      "|EQPE-BUS, SCHOOL-...|2017-06-01 00:00:00|EQPE|      8.37068403015026|      5.45788542378411|        null|        null|        null|   REL|MA_Ribbon|  2019-05-05 00:00:00|   5.0|        1.0|  1.39511400502504|2.9127986063661497|  1.86015200670006|    1.67934936116434|               High|                    High|                               null|                                        null|            B|         ISB6.7 2013|          WARRANTY|2.9127986063661497|COUNT_NBR|EQPE-BUS, SCHOOL-...|https://cumminsit...|       26670|      2015|       BUS, SCHOOL|     2017-05-11 00:00:00|        14.0|               High|                         High| 2015-04-01 00:00:00|                NAVISTAR|\n",
      "|EQPE-BUS, SCHOOL-...|2017-06-01 00:00:00|EQPE|     4.748207992725041|   0.21545731150845499|        null|        null|        null|   REL|MA_Ribbon|  2019-05-05 00:00:00|   5.0|        0.0|0.7913679987875071|  4.53275068121659|   1.3566308550643|   0.095758805114869|               High|                     Low|                               null|                                        null|            B|         ISB6.7 2013|          WARRANTY|  4.53275068121659|COUNT_NBR|EQPE-BUS, SCHOOL-...|https://cumminsit...|       25210|      2014|       BUS, SCHOOL|     2017-05-11 00:00:00|         6.0|               High|                         High| 2014-03-01 00:00:00|                  OTHERS|\n",
      "|KHBT-BUS, SCHOOL-...|2017-06-01 00:00:00|KHBT|     5.491853981768191|      3.21306194530458|        null|        null|        null|   REL|MA_Ribbon|  2019-05-05 00:00:00|   5.0|        0.0|0.9153089969613659|2.2787920364636203|0.6656792705173571| 0.45900884932922603|             Middle|                  Middle|                               null|                                        null|            B|         ISB6.7 2013|          WARRANTY|2.2787920364636203|COUNT_NBR|KHBT-BUS, SCHOOL-...|https://cumminsit...|       25210|      2014|       BUS, SCHOOL|     2017-05-11 00:00:00|        13.0|               High|                         High| 2014-07-01 00:00:00|                  OTHERS|\n",
      "|3582-AUTO-B-ISB6....|2017-06-08 00:00:00|3582|     5.901550720557599|      2.42548549500612|        null|        null|        null|   EDS|MA_Ribbon|  2019-05-05 00:00:00|   5.0|        2.0|0.9835917867595991|  3.47606522555147| 0.944248115289215| 0.46199723714402297|             Middle|                  Middle|                               null|                                        null|            B|         ISB6.7 2013|          WARRANTY|  3.47606522555147|COUNT_NBR|3582-AUTO-B-ISB6....|https://cumminsit...|       50517|      2014|              AUTO|     2017-05-11 00:00:00|        12.0|               High|                         High| 2014-06-01 00:00:00|                 DAIMLER|\n",
      "|3582-AUTO-B-ISB6....|2017-06-08 00:00:00|3582|      5.02768767527534|    1.3163963591593502|        null|        null|        null|   EDS|MA_Ribbon|  2019-05-05 00:00:00|   5.0|        1.0| 0.837947945879223|3.7112913161159904|  1.00553753505507|   0.329099089789836|             Middle|                     Low|                               null|                                        null|            B|         ISB6.7 2013|          WARRANTY|3.7112913161159904|COUNT_NBR|3582-AUTO-B-ISB6....|https://cumminsit...|       50517|      2014|              AUTO|     2017-05-11 00:00:00|        10.0|               High|                         High| 2014-08-01 00:00:00|                 DAIMLER|\n",
      "|3582-AUTO-L-ISL 2...|2017-06-08 00:00:00|3582|      6.49264405357121|      1.39043216071363|        null|        null|        null|   EDS|MA_Ribbon|  2019-05-05 00:00:00|   6.0|        0.0|  1.08210734226187|  5.10221189285758|  2.36096147402589|     1.1123457285709|               High|                  Middle|                               null|                                        null|            L|            ISL 2013|          WARRANTY|  5.10221189285758|COUNT_NBR|3582-AUTO-L-ISL 2...|https://cumminsit...|       25449|      2014|              AUTO|     2017-05-11 00:00:00|         9.0|               High|                         High| 2014-06-01 00:00:00|                  OTHERS|\n",
      "+--------------------+-------------------+----+----------------------+----------------------+------------+------------+------------+------+---------+---------------------+------+-----------+------------------+------------------+------------------+--------------------+-------------------+------------------------+-----------------------------------+--------------------------------------------+-------------+--------------------+------------------+------------------+---------+--------------------+--------------------+------------+----------+------------------+------------------------+------------+-------------------+-----------------------------+--------------------+------------------------+\n",
      "only showing top 20 rows\n",
      "\n"
     ]
    },
    {
     "data": {
      "text/plain": [
       "516293"
      ]
     },
     "execution_count": 34,
     "metadata": {},
     "output_type": "execute_result"
    }
   ],
   "source": [
    "ck = sqlContext.sql(\" select * from om_out_52_df where ENGINE_SERIES in ('B','L') \")\n",
    "\n",
    "ck.show()\n",
    "ck.count()"
   ]
  },
  {
   "cell_type": "code",
   "execution_count": 35,
   "metadata": {},
   "outputs": [],
   "source": [
    "cdf = ck.toPandas()\n",
    "\n",
    "\n",
    "cdf.to_csv('OM_output_B&L.csv')"
   ]
  },
  {
   "cell_type": "code",
   "execution_count": null,
   "metadata": {},
   "outputs": [],
   "source": []
  }
 ],
 "metadata": {
  "kernelspec": {
   "display_name": "Python 2 Spark - python",
   "language": "python",
   "name": "spark-python"
  },
  "language_info": {
   "codemirror_mode": {
    "name": "ipython",
    "version": 2
   },
   "file_extension": ".py",
   "mimetype": "text/x-python",
   "name": "python",
   "nbconvert_exporter": "python",
   "pygments_lexer": "ipython2",
   "version": "2.7.11"
  }
 },
 "nbformat": 4,
 "nbformat_minor": 2
}
