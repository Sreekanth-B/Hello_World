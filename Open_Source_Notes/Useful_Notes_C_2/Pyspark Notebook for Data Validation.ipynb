{
 "cells": [
  {
   "cell_type": "code",
   "execution_count": 1,
   "metadata": {},
   "outputs": [],
   "source": [
    "from pyspark.sql import SparkSession, HiveContext\n",
    "spark = SparkSession.builder.appName('Ops').getOrCreate()\n",
    "\n",
    "from pyspark.sql.types import StructType, StructField\n",
    "from pyspark.sql.types import DoubleType, IntegerType, StringType\n"
   ]
  },
  {
   "cell_type": "code",
   "execution_count": 2,
   "metadata": {},
   "outputs": [],
   "source": [
    "om_out= spark.read.option(\"header\",\"true\").option(\"delimiter\",\"|\").option(\"inferSchema\", \"true\").format(\"csv\").load(\"/home/qx816/notebooks/weibull_mar7/OM_MODEL_OUTPUT_2019-03-12.csv\")\n",
    "\n",
    "\n"
   ]
  },
  {
   "cell_type": "code",
   "execution_count": 3,
   "metadata": {},
   "outputs": [
    {
     "name": "stdout",
     "output_type": "stream",
     "text": [
      "root\n",
      " |-- CALC_ID: string (nullable = true)\n",
      " |-- CALC_DATE: timestamp (nullable = true)\n",
      " |-- CODE: string (nullable = true)\n",
      " |-- OM_CRRT_PRIORITY_SCORE: double (nullable = true)\n",
      " |-- OM_PREV_PRIORITY_SCORE: double (nullable = true)\n",
      " |-- OM_OUTPUT_01: timestamp (nullable = true)\n",
      " |-- OM_OUTPUT_02: double (nullable = true)\n",
      " |-- OM_OUTPUT_03: double (nullable = true)\n",
      " |-- SOURCE: string (nullable = true)\n",
      " |-- OM_ALGO: string (nullable = true)\n",
      " |-- OM_RUN_ANALYTICS_DATE: timestamp (nullable = true)\n",
      " |-- OM_NBR: double (nullable = true)\n",
      " |-- OM_NBR_PREV: double (nullable = true)\n",
      " |-- OM_SCORE: double (nullable = true)\n",
      " |-- OM_SCORE_DELTA: double (nullable = true)\n",
      " |-- OM_SCORE_REL: double (nullable = true)\n",
      " |-- OM_SCORE_REL_PREV: double (nullable = true)\n",
      " |-- OM_SCORE_REL_BUCKET: string (nullable = true)\n",
      " |-- OM_SCORE_REL_PREV_BUCKET: string (nullable = true)\n",
      " |-- OM_WEIBULL_SCORE_RPH_MILEAGE_MEDIAN: double (nullable = true)\n",
      " |-- OM_WEIBULL_SCORE_RPH_MONTH_IN_SERVICE_MEDIAN: double (nullable = true)\n",
      " |-- ENGINE_SERIES: string (nullable = true)\n",
      " |-- REL_ENGINE_NAME_DESC: string (nullable = true)\n",
      " |-- PROGRAM_GROUP_NAME: string (nullable = true)\n",
      " |-- OM_DELTA: double (nullable = true)\n",
      " |-- OM_METRIC: string (nullable = true)\n",
      " |-- OM_KEY: string (nullable = true)\n",
      " |-- OM_JIRA_URL: string (nullable = true)\n",
      " |-- BUILD_VOLUME: integer (nullable = true)\n",
      " |-- BUILD_YEAR: string (nullable = true)\n",
      " |-- REL_USER_APPL_DESC: string (nullable = true)\n",
      " |-- EARLIEST_OCCURRENCE_DATE: timestamp (nullable = true)\n",
      " |-- OM_NBR_CUMUL: double (nullable = true)\n",
      " |-- OM_NBR_CUMUL_BUCKET: string (nullable = true)\n",
      " |-- OM_CRRT_PRIORITY_SCORE_BUCKET: string (nullable = true)\n",
      " |-- REL_MONTH_BUILD_DATE: timestamp (nullable = true)\n",
      " |-- REL_OEM_NORMALIZED_GROUP: string (nullable = true)\n",
      "\n"
     ]
    }
   ],
   "source": [
    "om_out.printSchema()"
   ]
  },
  {
   "cell_type": "code",
   "execution_count": 4,
   "metadata": {},
   "outputs": [],
   "source": [
    "sqlContext.registerDataFrameAsTable(om_out, \"om_out_df\")\n"
   ]
  },
  {
   "cell_type": "code",
   "execution_count": 34,
   "metadata": {},
   "outputs": [
    {
     "name": "stdout",
     "output_type": "stream",
     "text": [
      "+--------------------+\n",
      "|             CALC_ID|\n",
      "+--------------------+\n",
      "|1117-All-All-X15 ...|\n",
      "|1144-All-All-All-EDS|\n",
      "|1679-All-All-All-EDS|\n",
      "|1883-All-All-ISX3...|\n",
      "|1883-All-All-X15 ...|\n",
      "|1921-All-All-ISX2...|\n",
      "|1921-All-All-ISX3...|\n",
      "|1922-All-All-ISX1...|\n",
      "| 196-All-All-All-EDS|\n",
      "|1963-All-All-All-...|\n",
      "+--------------------+\n",
      "\n"
     ]
    }
   ],
   "source": [
    "co=sqlContext.sql(\"select CALC_ID from om_out_df where CALC_date == (select max(calc_date) from  om_out_df) order by \")\n",
    "\n",
    "co.show()"
   ]
  },
  {
   "cell_type": "code",
   "execution_count": 27,
   "metadata": {},
   "outputs": [
    {
     "data": {
      "text/plain": [
       "0"
      ]
     },
     "execution_count": 27,
     "metadata": {},
     "output_type": "execute_result"
    }
   ],
   "source": [
    "co=sqlContext.sql(\"select OM_CRRT_PRIORITY_SCORE from om_out_df where om_algo == 'MA_Ribbon' and cast(OM_CRRT_PRIORITY_SCORE as int)<0 \")\n",
    "\n",
    "co.count()"
   ]
  },
  {
   "cell_type": "code",
   "execution_count": 52,
   "metadata": {},
   "outputs": [
    {
     "name": "stdout",
     "output_type": "stream",
     "text": [
      "+--------------+\n",
      "|max(calc_date)|\n",
      "+--------------+\n",
      "|    2019-03-07|\n",
      "+--------------+\n",
      "\n"
     ]
    }
   ],
   "source": [
    "co=sqlContext.sql(\"select max(calc_date) from om_out_df\")\n",
    "\n",
    "co.show()"
   ]
  },
  {
   "cell_type": "code",
   "execution_count": 54,
   "metadata": {},
   "outputs": [
    {
     "name": "stdout",
     "output_type": "stream",
     "text": [
      "+-------------------+--------------+\n",
      "|OM_SCORE_REL_BUCKET|count(CALC_ID)|\n",
      "+-------------------+--------------+\n",
      "|               High|         13525|\n",
      "|                Low|          7694|\n",
      "|             Middle|         11091|\n",
      "|            Decline|             8|\n",
      "+-------------------+--------------+\n",
      "\n"
     ]
    }
   ],
   "source": [
    "co=sqlContext.sql(\"select OM_SCORE_REL_BUCKET,count(CALC_ID) from om_out_df where calc_date == '2019-03-07' GROUP BY OM_SCORE_REL_BUCKET \")\n",
    "\n",
    "co.show()"
   ]
  },
  {
   "cell_type": "code",
   "execution_count": null,
   "metadata": {},
   "outputs": [],
   "source": []
  }
 ],
 "metadata": {
  "kernelspec": {
   "display_name": "Python 2 Spark - python",
   "language": "python",
   "name": "spark-python"
  },
  "language_info": {
   "codemirror_mode": {
    "name": "ipython",
    "version": 2
   },
   "file_extension": ".py",
   "mimetype": "text/x-python",
   "name": "python",
   "nbconvert_exporter": "python",
   "pygments_lexer": "ipython2",
   "version": "2.7.11"
  }
 },
 "nbformat": 4,
 "nbformat_minor": 2
}
